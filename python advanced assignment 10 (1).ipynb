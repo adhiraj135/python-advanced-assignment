{
 "cells": [
  {
   "cell_type": "markdown",
   "id": "9117dfbc",
   "metadata": {},
   "source": [
    "Q1. What is the difference between getattr and getattribute?"
   ]
  },
  {
   "cell_type": "markdown",
   "id": "3c419a9e",
   "metadata": {},
   "source": [
    "ans:\n",
    "\n",
    "getattr is called when an attribute lookup has not found the attribute in the usual places (i.e. it is not an instance attribute nor is it found in the class tree for self). name is the attribute name. This method should return the (computed) attribute value or raise an AttributeError exception.\n",
    "\n",
    "getattribute is called unconditionally to implement attribute accesses for instances of the class. If the class also defines getattr(), the latter will not be called unless getattribute() either calls it explicitly or raises an AttributeError."
   ]
  },
  {
   "cell_type": "code",
   "execution_count": 1,
   "id": "5c4ea2b0",
   "metadata": {},
   "outputs": [],
   "source": [
    "class Yeah(object):\n",
    "    def __init__(self, name):\n",
    "        self.name = name\n",
    "    # Gets called when an attribute is accessed\n",
    "    def __getattribute__(self, item):\n",
    "        print('__getattribute__ ', item)\n",
    "        # Calling the super class to avoid recursion\n",
    "        return super(Yeah, self).__getattribute__(item)\n",
    "    # Gets called when the item is not found via __getattribute__\n",
    "    def __getattr__(self, item):\n",
    "        print('__getattr__ ', item)\n",
    "        return super(Yeah, self).__setattr__(item, 'orphan')"
   ]
  },
  {
   "cell_type": "code",
   "execution_count": 2,
   "id": "cdf7c420",
   "metadata": {},
   "outputs": [
    {
     "name": "stdout",
     "output_type": "stream",
     "text": [
      "__getattribute__  name\n"
     ]
    },
    {
     "data": {
      "text/plain": [
       "'adhi'"
      ]
     },
     "execution_count": 2,
     "metadata": {},
     "output_type": "execute_result"
    }
   ],
   "source": [
    "obj=Yeah(\"adhi\")\n",
    "obj.name"
   ]
  },
  {
   "cell_type": "code",
   "execution_count": 3,
   "id": "7467eae5",
   "metadata": {},
   "outputs": [
    {
     "name": "stdout",
     "output_type": "stream",
     "text": [
      "__getattribute__  test\n",
      "__getattr__  test\n"
     ]
    }
   ],
   "source": [
    "obj.test"
   ]
  },
  {
   "cell_type": "code",
   "execution_count": 4,
   "id": "9a448715",
   "metadata": {},
   "outputs": [
    {
     "name": "stdout",
     "output_type": "stream",
     "text": [
      "__getattribute__  test1\n",
      "__getattr__  test1\n"
     ]
    }
   ],
   "source": [
    "obj.test1"
   ]
  },
  {
   "cell_type": "code",
   "execution_count": 5,
   "id": "acaa02eb",
   "metadata": {},
   "outputs": [
    {
     "name": "stdout",
     "output_type": "stream",
     "text": [
      "__getattribute__  __dict__\n"
     ]
    },
    {
     "data": {
      "text/plain": [
       "{'name': 'adhi', 'test': 'orphan', 'test1': 'orphan'}"
      ]
     },
     "execution_count": 5,
     "metadata": {},
     "output_type": "execute_result"
    }
   ],
   "source": [
    "obj.__dict__"
   ]
  },
  {
   "cell_type": "markdown",
   "id": "db60ffbb",
   "metadata": {},
   "source": [
    "Q2. What is the difference between properties and descriptors?"
   ]
  },
  {
   "cell_type": "raw",
   "id": "9878abc0",
   "metadata": {},
   "source": [
    "ans:\n",
    "\n",
    "Descriptors are a low-level mechanism that lets you hook into an object's attributes being accessed.\n",
    "\n",
    "Properties are a high-level application of this; that is, properties are implemented using descriptors. Or, better yet, properties are descriptors that are already provided for you in the standard library."
   ]
  },
  {
   "cell_type": "code",
   "execution_count": 6,
   "id": "c4747f7f",
   "metadata": {},
   "outputs": [],
   "source": [
    "class Celsius( object ):\n",
    "    def __init__( self, value=0.0 ):\n",
    "        self.value= float(value)\n",
    "    def __get__( self, instance, owner ):\n",
    "        return self.value\n",
    "    def __set__( self, instance, value ):\n",
    "        self.value= float(value)\n",
    "\n",
    "class Farenheit( object ):\n",
    "    def __get__( self, instance, owner ):\n",
    "        return instance.celsius * 9 / 5 + 32\n",
    "    def __set__( self, instance, value ):\n",
    "        instance.celsius= (float(value)-32) * 5 / 9\n",
    "\n",
    "class Temperature( object ):\n",
    "    celsius= Celsius()\n",
    "    farenheit= Farenheit()"
   ]
  },
  {
   "cell_type": "code",
   "execution_count": 7,
   "id": "5fb40f72",
   "metadata": {},
   "outputs": [
    {
     "name": "stdout",
     "output_type": "stream",
     "text": [
      "__getattribute__  __class__\n",
      "__getattribute__  __class__\n",
      "__getattribute__  __class__\n",
      "__getattribute__  __class__\n"
     ]
    }
   ],
   "source": [
    "obj=Temperature()"
   ]
  },
  {
   "cell_type": "code",
   "execution_count": 8,
   "id": "f5489f3a",
   "metadata": {},
   "outputs": [
    {
     "data": {
      "text/plain": [
       "1.0"
      ]
     },
     "execution_count": 8,
     "metadata": {},
     "output_type": "execute_result"
    }
   ],
   "source": [
    "obj.celsius=1\n",
    "obj.celsius"
   ]
  },
  {
   "cell_type": "code",
   "execution_count": 9,
   "id": "bb8005b4",
   "metadata": {},
   "outputs": [
    {
     "data": {
      "text/plain": [
       "33.8"
      ]
     },
     "execution_count": 9,
     "metadata": {},
     "output_type": "execute_result"
    }
   ],
   "source": [
    "obj.farenheit"
   ]
  },
  {
   "cell_type": "code",
   "execution_count": 10,
   "id": "f67c1a09",
   "metadata": {},
   "outputs": [],
   "source": [
    "obj.farenheit=122"
   ]
  },
  {
   "cell_type": "code",
   "execution_count": 11,
   "id": "cef24c02",
   "metadata": {},
   "outputs": [
    {
     "data": {
      "text/plain": [
       "50.0"
      ]
     },
     "execution_count": 11,
     "metadata": {},
     "output_type": "execute_result"
    }
   ],
   "source": [
    "obj.celsius"
   ]
  },
  {
   "cell_type": "code",
   "execution_count": 12,
   "id": "f19eede1",
   "metadata": {},
   "outputs": [],
   "source": [
    "class Temperature( object ):\n",
    "    def fget( self ):\n",
    "        return self.celsius * 9 / 5 + 32\n",
    "    def fset( self, value ):\n",
    "        self.celsius= (float(value)-32) * 5 / 9\n",
    "    farenheit= property( fget, fset )\n",
    "    def cset( self, value ):\n",
    "        self.cTemp= float(value)\n",
    "    def cget( self ):\n",
    "        return self.cTemp\n",
    "    celsius= property( cget, cset, doc=\"Celsius temperature\" )"
   ]
  },
  {
   "cell_type": "code",
   "execution_count": 13,
   "id": "7e3176ba",
   "metadata": {},
   "outputs": [],
   "source": [
    "obj1=Temperature()"
   ]
  },
  {
   "cell_type": "code",
   "execution_count": 14,
   "id": "b0ccbc45",
   "metadata": {},
   "outputs": [],
   "source": [
    "obj1.celsius=60"
   ]
  },
  {
   "cell_type": "code",
   "execution_count": 18,
   "id": "c5a85ed5",
   "metadata": {},
   "outputs": [
    {
     "data": {
      "text/plain": [
       "140.0"
      ]
     },
     "execution_count": 18,
     "metadata": {},
     "output_type": "execute_result"
    }
   ],
   "source": [
    "obj1.farenheit"
   ]
  },
  {
   "cell_type": "code",
   "execution_count": 19,
   "id": "0c0eb3a2",
   "metadata": {},
   "outputs": [],
   "source": [
    "obj1.farenheit=212\n"
   ]
  },
  {
   "cell_type": "code",
   "execution_count": 20,
   "id": "84e5cd8d",
   "metadata": {},
   "outputs": [
    {
     "data": {
      "text/plain": [
       "100.0"
      ]
     },
     "execution_count": 20,
     "metadata": {},
     "output_type": "execute_result"
    }
   ],
   "source": [
    "obj1.celsius"
   ]
  },
  {
   "cell_type": "markdown",
   "id": "26874969",
   "metadata": {},
   "source": [
    "Q3. What are the key differences in functionality between __getattr__ and __getattribute__, as well as\n",
    "properties and descriptors?"
   ]
  },
  {
   "cell_type": "markdown",
   "id": "d6c9b44f",
   "metadata": {},
   "source": [
    "Ans: The Key Differences between __getattr__, __getattribute__, Properties and Descriptors are:\n",
    "\n",
    "__getattr__: Python will call this method whenever you request an attribute that hasn't already been defined\n",
    "\n",
    "__getattribute__ : This method will invoked before looking at the actual attributes on the object. Means,if we have __getattribute__ method in our class, python invokes this method for every attribute regardless whether it exists or not.\n",
    "\n",
    "Properties: With Properties we can bind getter, setter and delete functions together with an attribute name, using the built-in property function or @property decorator. When we do this, each reference to an attribute looks like simple, direct access, but involes the appropriate function of the object.\n",
    "\n",
    "Descriptor: With Descriptor we can bind getter, setter and delete functions into a seperate class. we then assign an object of this class to the attribute name in our main class. When we do this, each reference to an attribute looks like simple, direct access but invokes an appropriate function of descriptor object."
   ]
  }
 ],
 "metadata": {
  "kernelspec": {
   "display_name": "Python 3 (ipykernel)",
   "language": "python",
   "name": "python3"
  },
  "language_info": {
   "codemirror_mode": {
    "name": "ipython",
    "version": 3
   },
   "file_extension": ".py",
   "mimetype": "text/x-python",
   "name": "python",
   "nbconvert_exporter": "python",
   "pygments_lexer": "ipython3",
   "version": "3.9.12"
  }
 },
 "nbformat": 4,
 "nbformat_minor": 5
}
