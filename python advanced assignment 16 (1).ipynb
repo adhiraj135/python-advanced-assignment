{
 "cells": [
  {
   "cell_type": "markdown",
   "id": "da254fed",
   "metadata": {},
   "source": [
    "Q1. What is the benefit of regular expressions?"
   ]
  },
  {
   "cell_type": "markdown",
   "id": "acbc925d",
   "metadata": {},
   "source": [
    "ans:\n",
    "    \n",
    "    Regular Expressions, also known as “regex” or “regexp”, are used to match strings of text such as particular characters, words, or patterns of characters. It means that we can match and extract any string pattern from the text with the help of regular expressions. I have used two terms, match and extract and both the terms have a slightly different meaning. There may be cases when we want to match a specific pattern but extract a subset of it. For example, we want to extract the names of PhD scholars from a list of names of people in an organization.\n",
    "    \n",
    "    ->Search a string (search and match)\n",
    "    ->Finding a string (findall)\n",
    "    ->Break string into a sub strings (split)\n",
    "    ->Replace part of a string (sub)"
   ]
  },
  {
   "cell_type": "markdown",
   "id": "831f7e90",
   "metadata": {},
   "source": [
    "Q2. Describe the difference between the effects of \"(ab)c+\" and \"a(bc)+.\" Which of these, if any, is the\n",
    "unqualified pattern \"abc+\"?"
   ]
  },
  {
   "cell_type": "markdown",
   "id": "611fb741",
   "metadata": {},
   "source": [
    "ans. when there is a pattern of \"(ab)c+\" then it  will a list of all the matches which contain atleast one or more ab. similarly  when there is a pattern of \"a(bc)+\" then it  will a list of all the matches which contain atleast one or more bc.  "
   ]
  },
  {
   "cell_type": "code",
   "execution_count": 2,
   "id": "a78e364d",
   "metadata": {},
   "outputs": [],
   "source": [
    "para=\"there are one a and one b and one c in abc and abc are the first three alphabets\""
   ]
  },
  {
   "cell_type": "code",
   "execution_count": 3,
   "id": "cda94305",
   "metadata": {},
   "outputs": [],
   "source": [
    "import re"
   ]
  },
  {
   "cell_type": "code",
   "execution_count": 5,
   "id": "21c7786f",
   "metadata": {},
   "outputs": [
    {
     "data": {
      "text/plain": [
       "['ab', 'ab']"
      ]
     },
     "execution_count": 5,
     "metadata": {},
     "output_type": "execute_result"
    }
   ],
   "source": [
    "re.findall(\"(ab)c+\",para)"
   ]
  },
  {
   "cell_type": "code",
   "execution_count": 6,
   "id": "f2dea382",
   "metadata": {},
   "outputs": [
    {
     "data": {
      "text/plain": [
       "['bc', 'bc']"
      ]
     },
     "execution_count": 6,
     "metadata": {},
     "output_type": "execute_result"
    }
   ],
   "source": [
    "re.findall(\"a(bc)+\",para)"
   ]
  },
  {
   "cell_type": "code",
   "execution_count": 7,
   "id": "773a28ed",
   "metadata": {},
   "outputs": [
    {
     "data": {
      "text/plain": [
       "['abc', 'abc']"
      ]
     },
     "execution_count": 7,
     "metadata": {},
     "output_type": "execute_result"
    }
   ],
   "source": [
    "re.findall(\"abc+\",para)"
   ]
  },
  {
   "cell_type": "markdown",
   "id": "90cd2835",
   "metadata": {},
   "source": [
    "Q3. How much do you need to use the following sentence while using regular expressions?"
   ]
  },
  {
   "cell_type": "markdown",
   "id": "ad152954",
   "metadata": {},
   "source": [
    "import re\n",
    "\n",
    "Ans: import re statement always has to be imported before using regular expressions.\n",
    "\n"
   ]
  },
  {
   "cell_type": "markdown",
   "id": "a64d086e",
   "metadata": {},
   "source": [
    "Q4. Which characters have special significance in square brackets when expressing a range, and under what circumstances?"
   ]
  },
  {
   "cell_type": "markdown",
   "id": "b131c625",
   "metadata": {},
   "source": [
    "ans. \n",
    "\n",
    "     [a-z]= means within the range of a to z\n",
    "     \n",
    "     [^abc]=means all the matches exluding abc\n",
    "     \n",
    "     [0-9]{2,4}=means all the 2 ,3,4 digits in the string\n",
    "     \n",
    "     "
   ]
  },
  {
   "cell_type": "markdown",
   "id": "979ea4ce",
   "metadata": {},
   "source": [
    "Q5. How does compiling a regular-expression object benefit you?"
   ]
  },
  {
   "cell_type": "markdown",
   "id": "d9646703",
   "metadata": {},
   "source": [
    "ans: it will be useful in :-\n",
    "    \n",
    "    ->Search a string (search and match)\n",
    "    \n",
    "    ->Finding a string (findall)\n",
    "    \n",
    "    ->Break string into a sub strings (split)\n",
    "    \n",
    "    ->Replace part of a string (sub)"
   ]
  },
  {
   "cell_type": "markdown",
   "id": "e841ec32",
   "metadata": {},
   "source": [
    "Q6. What are some examples of how to use the match object returned by re.match and re.search?"
   ]
  },
  {
   "cell_type": "markdown",
   "id": "06518567",
   "metadata": {},
   "source": [
    "ans: re.match and re.search are both important functions of regex.There is a difference between the use of both functions. Both return the first match of a substring found in the string, but re.match() searches only from the beginning of the string and return match object if found. But if a match of substring is found somewhere in the middle of the string, it returns none.\n",
    "\n",
    "While re.search() searches for the whole string even if the string contains multi-lines and tries to find a match of the substring in all the lines of string"
   ]
  },
  {
   "cell_type": "code",
   "execution_count": 16,
   "id": "e36674fc",
   "metadata": {},
   "outputs": [],
   "source": [
    "para=\"this is the assignment of regex and regex is part of pyton\"\n",
    "para1=\"regex is an important tool of python\""
   ]
  },
  {
   "cell_type": "code",
   "execution_count": 17,
   "id": "48e30922",
   "metadata": {},
   "outputs": [
    {
     "name": "stdout",
     "output_type": "stream",
     "text": [
      "<re.Match object; span=(26, 31), match='regex'>\n",
      "<re.Match object; span=(0, 5), match='regex'>\n"
     ]
    }
   ],
   "source": [
    "print(re.search(\"regex\",para))\n",
    "print(re.search(\"regex\",para1))"
   ]
  },
  {
   "cell_type": "code",
   "execution_count": 18,
   "id": "f02e0023",
   "metadata": {},
   "outputs": [
    {
     "name": "stdout",
     "output_type": "stream",
     "text": [
      "None\n",
      "<re.Match object; span=(0, 5), match='regex'>\n"
     ]
    }
   ],
   "source": [
    "print(re.match(\"regex\",para))\n",
    "print(re.match(\"regex\",para1))"
   ]
  },
  {
   "cell_type": "markdown",
   "id": "caa45df2",
   "metadata": {},
   "source": [
    "Q7. What is the difference between using a vertical bar (|) as an alteration and using square brackets\n",
    "as a character set?"
   ]
  },
  {
   "cell_type": "markdown",
   "id": "13f8cd79",
   "metadata": {},
   "source": [
    "Ans: When | us used then patterns searches for or option. i.e <pattern_1>|<pattern_2> means it searches as <pattern_1>or<<pattern_2> in the searched string. the first occurance of matched string will be returned as the Match Object. Using Character set in square Brackets searches for all the character set in the square bracket and if match is found, it returns it."
   ]
  },
  {
   "cell_type": "markdown",
   "id": "6256a117",
   "metadata": {},
   "source": [
    "Q8. In regular-expression search patterns, why is it necessary to use the raw-string indicator (r)? In  \n",
    "replacement strings?"
   ]
  },
  {
   "cell_type": "markdown",
   "id": "ad73ac8a",
   "metadata": {},
   "source": [
    "ans In Python, strings prefixed with r or R , such as r'...' and r\"...\" , are called raw strings and treat backslashes \\ as literal characters. Raw strings are useful when handling strings that use a lot of backslashes, such as regular expression patterns."
   ]
  },
  {
   "cell_type": "code",
   "execution_count": null,
   "id": "7b0bb1e4",
   "metadata": {},
   "outputs": [],
   "source": []
  }
 ],
 "metadata": {
  "kernelspec": {
   "display_name": "Python 3 (ipykernel)",
   "language": "python",
   "name": "python3"
  },
  "language_info": {
   "codemirror_mode": {
    "name": "ipython",
    "version": 3
   },
   "file_extension": ".py",
   "mimetype": "text/x-python",
   "name": "python",
   "nbconvert_exporter": "python",
   "pygments_lexer": "ipython3",
   "version": "3.9.12"
  }
 },
 "nbformat": 4,
 "nbformat_minor": 5
}
