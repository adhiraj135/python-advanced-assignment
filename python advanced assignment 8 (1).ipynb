{
 "cells": [
  {
   "cell_type": "markdown",
   "id": "9a046702",
   "metadata": {},
   "source": [
    "Q1. What are the two latest user-defined exception constraints in Python 3.X?"
   ]
  },
  {
   "cell_type": "markdown",
   "id": "91bfa36f",
   "metadata": {},
   "source": [
    "ans: raise and assert are the two user defined constraints in python"
   ]
  },
  {
   "cell_type": "markdown",
   "id": "d1e3e2ac",
   "metadata": {},
   "source": [
    "Q2. How are class-based exceptions that have been raised matched to handlers?"
   ]
  },
  {
   "cell_type": "markdown",
   "id": "22864c8f",
   "metadata": {},
   "source": [
    "ans: class based exception are raised by passing Exception in the class name and calling that class to raise an exception inside the code"
   ]
  },
  {
   "cell_type": "code",
   "execution_count": 6,
   "id": "36e3aacf",
   "metadata": {},
   "outputs": [
    {
     "ename": "test_exception",
     "evalue": "the age shoul be greater than 18 and in this case is 15",
     "output_type": "error",
     "traceback": [
      "\u001b[1;31m---------------------------------------------------------------------------\u001b[0m",
      "\u001b[1;31mtest_exception\u001b[0m                            Traceback (most recent call last)",
      "Input \u001b[1;32mIn [6]\u001b[0m, in \u001b[0;36m<cell line: 6>\u001b[1;34m()\u001b[0m\n\u001b[0;32m      3\u001b[0m         \u001b[38;5;28mself\u001b[39m\u001b[38;5;241m.\u001b[39mage\u001b[38;5;241m=\u001b[39mage\n\u001b[0;32m      5\u001b[0m a\u001b[38;5;241m=\u001b[39mtest_exception(\u001b[38;5;241m15\u001b[39m)\n\u001b[1;32m----> 6\u001b[0m \u001b[38;5;28;01mif\u001b[39;00m a\u001b[38;5;241m.\u001b[39mage\u001b[38;5;241m<\u001b[39m\u001b[38;5;241m=\u001b[39m\u001b[38;5;241m18\u001b[39m: \u001b[38;5;28;01mraise\u001b[39;00m test_exception(\u001b[38;5;124mf\u001b[39m\u001b[38;5;124m'\u001b[39m\u001b[38;5;124mthe age shoul be greater than 18 and in this case is \u001b[39m\u001b[38;5;132;01m{\u001b[39;00ma\u001b[38;5;241m.\u001b[39mage\u001b[38;5;132;01m}\u001b[39;00m\u001b[38;5;124m'\u001b[39m)\n",
      "\u001b[1;31mtest_exception\u001b[0m: the age shoul be greater than 18 and in this case is 15"
     ]
    }
   ],
   "source": [
    "class test_exception(Exception):\n",
    "    def __init__(self,age):\n",
    "        self.age=age\n",
    "        \n",
    "a=test_exception(15)\n",
    "if a.age<=18: raise test_exception(f'the age shoul be greater than 18 and in this case is {a.age}')"
   ]
  },
  {
   "cell_type": "markdown",
   "id": "58517a4a",
   "metadata": {},
   "source": [
    "Q3. Describe two methods for attaching context information to exception artefacts."
   ]
  },
  {
   "cell_type": "markdown",
   "id": "127f6a38",
   "metadata": {},
   "source": [
    "ans: an argument can be passed inside a exception block regarding providing the information regarding the exception."
   ]
  },
  {
   "cell_type": "code",
   "execution_count": 8,
   "id": "b292d0de",
   "metadata": {},
   "outputs": [
    {
     "name": "stdout",
     "output_type": "stream",
     "text": [
      "the exception is : unsupported operand type(s) for +: 'int' and 'str'\n"
     ]
    }
   ],
   "source": [
    "try:\n",
    "    100+\"adh8ci\"\n",
    "except Exception as e:\n",
    "    print(\"the exception is :\",e)\n",
    "    "
   ]
  },
  {
   "cell_type": "markdown",
   "id": "4b8cb5c9",
   "metadata": {},
   "source": [
    "Q4. Describe two methods for specifying the text of an exception object's error message."
   ]
  },
  {
   "cell_type": "markdown",
   "id": "2caf1021",
   "metadata": {},
   "source": [
    "ans= raise and assret are the mehtods used for specifying the text of an exception object's error message"
   ]
  },
  {
   "cell_type": "code",
   "execution_count": 10,
   "id": "d2a8ce97",
   "metadata": {},
   "outputs": [
    {
     "ename": "Exception",
     "evalue": "the age should be greater than 18 and in this case is 15",
     "output_type": "error",
     "traceback": [
      "\u001b[1;31m---------------------------------------------------------------------------\u001b[0m",
      "\u001b[1;31mException\u001b[0m                                 Traceback (most recent call last)",
      "Input \u001b[1;32mIn [10]\u001b[0m, in \u001b[0;36m<cell line: 2>\u001b[1;34m()\u001b[0m\n\u001b[0;32m      1\u001b[0m age\u001b[38;5;241m=\u001b[39m\u001b[38;5;241m15\u001b[39m\n\u001b[1;32m----> 2\u001b[0m \u001b[38;5;28;01mif\u001b[39;00m age\u001b[38;5;241m<\u001b[39m\u001b[38;5;241m=\u001b[39m\u001b[38;5;241m18\u001b[39m:\u001b[38;5;28;01mraise\u001b[39;00m \u001b[38;5;167;01mException\u001b[39;00m(\u001b[38;5;124mf\u001b[39m\u001b[38;5;124m'\u001b[39m\u001b[38;5;124mthe age should be greater than 18 and in this case is \u001b[39m\u001b[38;5;132;01m{\u001b[39;00mage\u001b[38;5;132;01m}\u001b[39;00m\u001b[38;5;124m'\u001b[39m)\n",
      "\u001b[1;31mException\u001b[0m: the age should be greater than 18 and in this case is 15"
     ]
    }
   ],
   "source": [
    "age=15\n",
    "if age<=18:raise Exception(f'the age should be greater than 18 and in this case is {age}')"
   ]
  },
  {
   "cell_type": "code",
   "execution_count": 14,
   "id": "39b59f87",
   "metadata": {},
   "outputs": [
    {
     "ename": "AssertionError",
     "evalue": "2 is not equal to 4",
     "output_type": "error",
     "traceback": [
      "\u001b[1;31m---------------------------------------------------------------------------\u001b[0m",
      "\u001b[1;31mAssertionError\u001b[0m                            Traceback (most recent call last)",
      "Input \u001b[1;32mIn [14]\u001b[0m, in \u001b[0;36m<cell line: 1>\u001b[1;34m()\u001b[0m\n\u001b[1;32m----> 1\u001b[0m \u001b[38;5;28;01massert\u001b[39;00m(\u001b[38;5;241m2\u001b[39m\u001b[38;5;241m==\u001b[39m\u001b[38;5;241m4\u001b[39m),\u001b[38;5;124m\"\u001b[39m\u001b[38;5;124m2 is not equal to 4\u001b[39m\u001b[38;5;124m\"\u001b[39m\n",
      "\u001b[1;31mAssertionError\u001b[0m: 2 is not equal to 4"
     ]
    }
   ],
   "source": [
    "\n",
    "assert(2==4),\"2 is not equal to 4\""
   ]
  },
  {
   "cell_type": "markdown",
   "id": "31ea170c",
   "metadata": {},
   "source": [
    "Q5. Why do you no longer use string-based exceptions?"
   ]
  },
  {
   "cell_type": "markdown",
   "id": "8a6aecc5",
   "metadata": {},
   "source": [
    "Ans: String-based Exceptions doesn't inherit from Exceptions. so plain exceptions catch all exceptions and not only system."
   ]
  },
  {
   "cell_type": "code",
   "execution_count": null,
   "id": "10c2a7e9",
   "metadata": {},
   "outputs": [],
   "source": []
  }
 ],
 "metadata": {
  "kernelspec": {
   "display_name": "Python 3 (ipykernel)",
   "language": "python",
   "name": "python3"
  },
  "language_info": {
   "codemirror_mode": {
    "name": "ipython",
    "version": 3
   },
   "file_extension": ".py",
   "mimetype": "text/x-python",
   "name": "python",
   "nbconvert_exporter": "python",
   "pygments_lexer": "ipython3",
   "version": "3.9.12"
  }
 },
 "nbformat": 4,
 "nbformat_minor": 5
}
