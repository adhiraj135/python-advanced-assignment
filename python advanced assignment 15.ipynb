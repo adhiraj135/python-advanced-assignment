{
 "cells": [
  {
   "cell_type": "markdown",
   "id": "cd5dc86f",
   "metadata": {},
   "source": [
    "1. What are the new features added in Python 3.8 version?"
   ]
  },
  {
   "cell_type": "markdown",
   "id": "3dfdd7b3",
   "metadata": {},
   "source": [
    "ans: The following are the new features added in the Python 3.8 version: \n",
    "    \n",
    "1. The walrus operator\n",
    "Assignment expressions have come to Python with the \"walrus\" operator :=. This will enable you to assign values to a variable as part of an expression. The major benefit of this is it saves you some lines of code when you want to use, say, the value of an expression in a subs.\n",
    "\n",
    "    eg: while line := f.readline():\n",
    "\n",
    "2. Positional-only arguments\n",
    "A special marker, /, can now be used when defining a method's arguments to specify that the functional only accepts positional arguments on the left of the marker. Keyword-only arguments have been available in Python with the * marker in functions, and addition of / marker for positional-only arguments improves the language's consistency and allows for a robust API design.\n",
    "\n",
    "3. f-strings now support \"=\"\n",
    "Python programmers often use \"printf-style\" debugging. f-strings make this a bit nicer:\n",
    "\n",
    "   print(f\"foo={foo} bar={bar}\")\n",
    "\n",
    "4. reversed() now works with dict\n",
    "Since Python 3.7, dictionaries preserve the order of insertion of keys. The reversed() built-in can now be used to access the dictionary in the reverse order of insertion — just like OrderedDict.\n",
    "\n",
    "5. Simplified iterable unpacking for return and yield\n",
    "This unintentional behavior has existed since Python 3.2 which disallowed unpacking iterables without parentheses in return and yield statements.\n",
    "\n",
    "    eg: \n",
    "    def baz():\n",
    "      rest = (4, 5, 6)\n",
    "      return 1, 2, 3, \\*rest"
   ]
  },
  {
   "cell_type": "markdown",
   "id": "eaee0c5e",
   "metadata": {},
   "source": [
    "2. What is monkey patching in Python?"
   ]
  },
  {
   "cell_type": "markdown",
   "id": "1cfae9f2",
   "metadata": {},
   "source": [
    "ans. In Python, the term monkey patch refers to dynamic (or run-time) modifications of a class or module. In Python, we can actually change the behavior of code at run-time."
   ]
  },
  {
   "cell_type": "raw",
   "id": "bb0206e1",
   "metadata": {},
   "source": [
    "class A:\n",
    "     def func(self):\n",
    "          print (\"func() is being called\")\n",
    "\n",
    "        \n",
    "import monk\n",
    "def monkey_f(self):\n",
    "     print (\"monkey_f() is being called\")\n",
    "   \n",
    "# replacing address of \"func\" with \"monkey_f\"\n",
    "monk.A.func = monkey_f\n",
    "obj = monk.A()\n",
    "  \n",
    "# calling function \"func\" whose address got replaced\n",
    "# with function \"monkey_f()\"\n",
    "obj.func()"
   ]
  },
  {
   "cell_type": "markdown",
   "id": "73b40044",
   "metadata": {},
   "source": [
    "3. What is the difference between a shallow copy and deep copy?"
   ]
  },
  {
   "cell_type": "markdown",
   "id": "f0d353ce",
   "metadata": {},
   "source": [
    "ANS: \n",
    "\n",
    "Deep copy is a process in which the copying process occurs recursively. It means first constructing a new collection object and then recursively populating it with copies of the child objects found in the original. In case of deep copy, a copy of object is copied in other object. It means that any changes made to a copy of object do not reflect in the original object. In python, this is implemented using “deepcopy()” function.\n",
    "\n",
    "A shallow copy means constructing a new collection object and then populating it with references to the child objects found in the original. The copying process does not recurse and therefore won’t create copies of the child objects themselves. In case of shallow copy, a reference of object is copied in other object. It means that any changes made to a copy of object do reflect in the original object. In python, this is implemented using “copy()” function."
   ]
  },
  {
   "cell_type": "code",
   "execution_count": 8,
   "id": "426f9617",
   "metadata": {},
   "outputs": [],
   "source": [
    "import copy\n",
    "\n",
    "l=[1,2,4,[3,6],5]"
   ]
  },
  {
   "cell_type": "code",
   "execution_count": 11,
   "id": "e0b72177",
   "metadata": {},
   "outputs": [
    {
     "name": "stdout",
     "output_type": "stream",
     "text": [
      "[1, 2, 4, [3, 6], 5]\n",
      "[1, 2, 4, [3, 6], 5]\n"
     ]
    }
   ],
   "source": [
    "l1=copy.copy(l)\n",
    "l2=copy.deepcopy(l)\n",
    "print(l1)\n",
    "print(l2)"
   ]
  },
  {
   "cell_type": "markdown",
   "id": "e51e261a",
   "metadata": {},
   "source": [
    "4. What is the maximum possible length of an identifier?"
   ]
  },
  {
   "cell_type": "markdown",
   "id": "e9f6bb1e",
   "metadata": {},
   "source": [
    "ans: An identifier can have a maximum length of 79 characters in Python."
   ]
  },
  {
   "cell_type": "markdown",
   "id": "9bd97671",
   "metadata": {},
   "source": [
    "5. What is generator comprehension?"
   ]
  },
  {
   "cell_type": "markdown",
   "id": "b892d456",
   "metadata": {},
   "source": [
    "ans: Generator Comprehension is a way to initialize a generator to access elements from a container object or a sequence of data. "
   ]
  },
  {
   "cell_type": "code",
   "execution_count": 1,
   "id": "8042643b",
   "metadata": {},
   "outputs": [
    {
     "data": {
      "text/plain": [
       "<generator object <genexpr> at 0x00000231DE1E4200>"
      ]
     },
     "execution_count": 1,
     "metadata": {},
     "output_type": "execute_result"
    }
   ],
   "source": [
    "gen_7=(i**2 for i in range(11))\n",
    "gen_7"
   ]
  },
  {
   "cell_type": "code",
   "execution_count": 2,
   "id": "9735da90",
   "metadata": {},
   "outputs": [
    {
     "name": "stdout",
     "output_type": "stream",
     "text": [
      "0\n",
      "1\n",
      "4\n",
      "9\n",
      "16\n",
      "25\n",
      "36\n",
      "49\n",
      "64\n",
      "81\n",
      "100\n"
     ]
    }
   ],
   "source": [
    "for j in gen_7:\n",
    "    print(j)\n",
    "    "
   ]
  },
  {
   "cell_type": "code",
   "execution_count": null,
   "id": "f7da19d4",
   "metadata": {},
   "outputs": [],
   "source": []
  }
 ],
 "metadata": {
  "kernelspec": {
   "display_name": "Python 3 (ipykernel)",
   "language": "python",
   "name": "python3"
  },
  "language_info": {
   "codemirror_mode": {
    "name": "ipython",
    "version": 3
   },
   "file_extension": ".py",
   "mimetype": "text/x-python",
   "name": "python",
   "nbconvert_exporter": "python",
   "pygments_lexer": "ipython3",
   "version": "3.9.12"
  }
 },
 "nbformat": 4,
 "nbformat_minor": 5
}
