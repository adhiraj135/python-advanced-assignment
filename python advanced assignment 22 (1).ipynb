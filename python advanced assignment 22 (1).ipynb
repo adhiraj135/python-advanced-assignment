{
 "cells": [
  {
   "cell_type": "markdown",
   "id": "21c55fd1",
   "metadata": {},
   "source": [
    "Q1. What are the benefits of the built-in array package, if any?"
   ]
  },
  {
   "cell_type": "markdown",
   "id": "269f96d0",
   "metadata": {},
   "source": [
    "ans: the benefits are as follows:\n",
    "     \n",
    "     1. Get Size of Array Item\n",
    "     \n",
    "     2. Count the Number of Occurrences of elements in the array\n",
    "     \n",
    "     3. Append and Extend values in arrays\n",
    "     \n",
    "     4. Manipulating the Index of the elements in the array\n",
    "     \n",
    "     5. converting Array to List."
   ]
  },
  {
   "cell_type": "markdown",
   "id": "be52a13b",
   "metadata": {},
   "source": [
    "Q2. What are some of the array package's limitations?"
   ]
  },
  {
   "cell_type": "markdown",
   "id": "5f71038a",
   "metadata": {},
   "source": [
    "ans. the follwoing are the limitation of array packages:\n",
    "    \n",
    "    1.  built-in array module, when the desired datatype of the array was int and float value was passed to the array. A TypeError occurred ‘integer argument expected got float’.\n",
    "    \n",
    "    2. This is the major difference between the built-in array module and numpy array. A built-in array is quite strict about the storage of objects in itself. It permits only that type of data to be stored in itself, which has been specified strictly by the typecode. We could not store float value when typecode specified that, int data has to be stored in the built-in array"
   ]
  },
  {
   "cell_type": "markdown",
   "id": "1e0c554e",
   "metadata": {},
   "source": [
    "Q3. Describe the main differences between the array and numpy packages."
   ]
  },
  {
   "cell_type": "markdown",
   "id": "3892574f",
   "metadata": {},
   "source": [
    "ans: the main difference between the array and numpy packages are as follows:\n",
    "        \n",
    "    1.In built-in array module, when the desired datatype of the array was int and float value was passed to the array. A TypeError occurred ‘integer argument expected got float’. And inbuilt array module when the desired data type of array was Unicode character specified by typecode ‘u’, and the floating value was sent to array. TypeError occurred that ‘array item must be Unicode character’. But in numpy array when the desired data type of array was int and float value was sent to array. Float values were typecasted into an int (with loss of data after the decimal) and when the desired data type of array was string and float value were sent to an array, float values were typecasted into a string. \n",
    "    \n",
    "    2. This is the major difference between the built-in array module and numpy array. A built-in array is quite strict about the storage of objects in itself. It permits only that type of data to be stored in itself, which has been specified strictly by the typecode. We could not store float value when typecode specified that, int data has to be stored in the built-in array. However numpy array is a bit tolerant or lenient in that matter, it will upcast or downcast and try to store the data at any cost. (Float was converted to int, even if that resulted in loss of data after decimal)"
   ]
  },
  {
   "cell_type": "markdown",
   "id": "1d0ff8f7",
   "metadata": {},
   "source": [
    "Q4. Explain the distinctions between the empty, ones, and zeros functions."
   ]
  },
  {
   "cell_type": "code",
   "execution_count": 3,
   "id": "c2c5b75b",
   "metadata": {},
   "outputs": [
    {
     "data": {
      "text/plain": [
       "array([[0., 0.],\n",
       "       [0., 0.]])"
      ]
     },
     "execution_count": 3,
     "metadata": {},
     "output_type": "execute_result"
    }
   ],
   "source": [
    "import numpy as np\n",
    "#np.zeros=Return a new array setting values to zero.\n",
    "np.zeros((2,2))\n",
    "\n",
    "\n",
    "\n"
   ]
  },
  {
   "cell_type": "code",
   "execution_count": 4,
   "id": "1b93e23d",
   "metadata": {},
   "outputs": [
    {
     "data": {
      "text/plain": [
       "array([[0., 0.],\n",
       "       [0., 0.]])"
      ]
     },
     "execution_count": 4,
     "metadata": {},
     "output_type": "execute_result"
    }
   ],
   "source": [
    "#np.empty=Return a new uninitialized array.\n",
    "np.empty((2,2))"
   ]
  },
  {
   "cell_type": "code",
   "execution_count": 6,
   "id": "401acf4c",
   "metadata": {},
   "outputs": [
    {
     "data": {
      "text/plain": [
       "array([[1., 1.],\n",
       "       [1., 1.]])"
      ]
     },
     "execution_count": 6,
     "metadata": {},
     "output_type": "execute_result"
    }
   ],
   "source": [
    "#np.zeros=Return a new array setting values to one.\n",
    "np.ones((2,2))"
   ]
  },
  {
   "cell_type": "markdown",
   "id": "e016a331",
   "metadata": {},
   "source": [
    "Q5. In the fromfunction function, which is used to construct new arrays, what is the role of the callable\n",
    "argument?"
   ]
  },
  {
   "cell_type": "markdown",
   "id": "1963ed12",
   "metadata": {},
   "source": [
    "ans: the callable arguments in the np.fromfunction() consists of function, shape,  dtype."
   ]
  },
  {
   "cell_type": "code",
   "execution_count": 7,
   "id": "f327962c",
   "metadata": {},
   "outputs": [
    {
     "data": {
      "text/plain": [
       "array([[ True, False, False],\n",
       "       [False,  True, False],\n",
       "       [False, False,  True]])"
      ]
     },
     "execution_count": 7,
     "metadata": {},
     "output_type": "execute_result"
    }
   ],
   "source": [
    "np.fromfunction(lambda i,j:i==j,(3,3),dtype=int)"
   ]
  },
  {
   "cell_type": "markdown",
   "id": "591b5ba6",
   "metadata": {},
   "source": [
    "Q6. What happens when a numpy array is combined with a single-value operand (a scalar, such as\n",
    "an int or a floating-point value) through addition, as in the expression A + n?"
   ]
  },
  {
   "cell_type": "code",
   "execution_count": 13,
   "id": "8bd5bc2b",
   "metadata": {},
   "outputs": [
    {
     "data": {
      "text/plain": [
       "array([[2, 2],\n",
       "       [3, 3]])"
      ]
     },
     "execution_count": 13,
     "metadata": {},
     "output_type": "execute_result"
    }
   ],
   "source": [
    "np.array(([2,2],[3,3]))"
   ]
  },
  {
   "cell_type": "code",
   "execution_count": 14,
   "id": "297e6e39",
   "metadata": {},
   "outputs": [
    {
     "data": {
      "text/plain": [
       "array([[3, 3],\n",
       "       [4, 4]])"
      ]
     },
     "execution_count": 14,
     "metadata": {},
     "output_type": "execute_result"
    }
   ],
   "source": [
    "np.array(([2,2],[3,3]))+1"
   ]
  },
  {
   "cell_type": "markdown",
   "id": "3096acbb",
   "metadata": {},
   "source": [
    "Q7. Can array-to-scalar operations use combined operation-assign operators (such as += or *=)?\n",
    "What is the outcome?"
   ]
  },
  {
   "cell_type": "code",
   "execution_count": 15,
   "id": "26d4e3c2",
   "metadata": {},
   "outputs": [
    {
     "ename": "SyntaxError",
     "evalue": "'function call' is an illegal expression for augmented assignment (1059903085.py, line 1)",
     "output_type": "error",
     "traceback": [
      "\u001b[1;36m  Input \u001b[1;32mIn [15]\u001b[1;36m\u001b[0m\n\u001b[1;33m    np.array(([2,2],[3,3])) +=1\u001b[0m\n\u001b[1;37m    ^\u001b[0m\n\u001b[1;31mSyntaxError\u001b[0m\u001b[1;31m:\u001b[0m 'function call' is an illegal expression for augmented assignment\n"
     ]
    }
   ],
   "source": [
    "np.array(([2,2],[3,3])) +=1"
   ]
  },
  {
   "cell_type": "code",
   "execution_count": 16,
   "id": "f1e549e5",
   "metadata": {},
   "outputs": [
    {
     "ename": "SyntaxError",
     "evalue": "'function call' is an illegal expression for augmented assignment (1526065479.py, line 1)",
     "output_type": "error",
     "traceback": [
      "\u001b[1;36m  Input \u001b[1;32mIn [16]\u001b[1;36m\u001b[0m\n\u001b[1;33m    np.array(([2,2],[3,3])) *=2\u001b[0m\n\u001b[1;37m    ^\u001b[0m\n\u001b[1;31mSyntaxError\u001b[0m\u001b[1;31m:\u001b[0m 'function call' is an illegal expression for augmented assignment\n"
     ]
    }
   ],
   "source": [
    "np.array(([2,2],[3,3])) *=2"
   ]
  },
  {
   "cell_type": "markdown",
   "id": "bf8d2f51",
   "metadata": {},
   "source": [
    "Q8. Does a numpy array contain fixed-length strings? What happens if you allocate a longer string to\n",
    "one of these arrays?"
   ]
  },
  {
   "cell_type": "code",
   "execution_count": 20,
   "id": "24ea4b55",
   "metadata": {},
   "outputs": [
    {
     "data": {
      "text/plain": [
       "array(['jbcabvaj'], dtype='<U8')"
      ]
     },
     "execution_count": 20,
     "metadata": {},
     "output_type": "execute_result"
    }
   ],
   "source": [
    "np.array([\"jbcabvaj\"])"
   ]
  },
  {
   "cell_type": "markdown",
   "id": "7bc5173d",
   "metadata": {},
   "source": [
    "ans: yes, numpy array contain fixed lenght strings.The dtype of any numpy array containing string values is the maximum length of any string present in the array. Once set, it will only be able to store new string having length not more than the maximum length at the time of the creation. If we try to reassign some another string value having length greater than the maximum length of the existing elements, it simply discards all the values beyond the maximum length."
   ]
  },
  {
   "cell_type": "markdown",
   "id": "5a8b226b",
   "metadata": {},
   "source": [
    "Q9. What happens when you combine two numpy arrays using an operation like addition (+) or\n",
    "multiplication (*)? What are the conditions for combining two numpy arrays?"
   ]
  },
  {
   "cell_type": "code",
   "execution_count": 24,
   "id": "d183b878",
   "metadata": {},
   "outputs": [],
   "source": [
    "arr1=np.array([[1,2],[3,4]])"
   ]
  },
  {
   "cell_type": "code",
   "execution_count": 23,
   "id": "97cde600",
   "metadata": {},
   "outputs": [],
   "source": [
    "arr2=np.array([[5,6],[7,8]])"
   ]
  },
  {
   "cell_type": "code",
   "execution_count": 25,
   "id": "45c8af7f",
   "metadata": {},
   "outputs": [
    {
     "data": {
      "text/plain": [
       "array([[ 6,  8],\n",
       "       [10, 12]])"
      ]
     },
     "execution_count": 25,
     "metadata": {},
     "output_type": "execute_result"
    }
   ],
   "source": [
    "arr1+arr2"
   ]
  },
  {
   "cell_type": "code",
   "execution_count": 26,
   "id": "35a1d908",
   "metadata": {},
   "outputs": [
    {
     "data": {
      "text/plain": [
       "array([[ 5, 12],\n",
       "       [21, 32]])"
      ]
     },
     "execution_count": 26,
     "metadata": {},
     "output_type": "execute_result"
    }
   ],
   "source": [
    "arr1*arr2"
   ]
  },
  {
   "cell_type": "markdown",
   "id": "26529992",
   "metadata": {},
   "source": [
    "ans: corresponding values of  both the arrays will be added and multiplicated if addition or multiply takes place beween the two arrays respectively"
   ]
  },
  {
   "cell_type": "markdown",
   "id": "1d28153c",
   "metadata": {},
   "source": [
    "Q10. What is the best way to use a Boolean array to mask another array?"
   ]
  },
  {
   "cell_type": "code",
   "execution_count": 27,
   "id": "6f5dc681",
   "metadata": {},
   "outputs": [
    {
     "data": {
      "text/plain": [
       "array([[1, 2],\n",
       "       [3, 4]])"
      ]
     },
     "execution_count": 27,
     "metadata": {},
     "output_type": "execute_result"
    }
   ],
   "source": [
    "arr1\n"
   ]
  },
  {
   "cell_type": "code",
   "execution_count": 28,
   "id": "371bfa67",
   "metadata": {},
   "outputs": [
    {
     "data": {
      "text/plain": [
       "array([[5, 6],\n",
       "       [7, 8]])"
      ]
     },
     "execution_count": 28,
     "metadata": {},
     "output_type": "execute_result"
    }
   ],
   "source": [
    "arr2"
   ]
  },
  {
   "cell_type": "code",
   "execution_count": 30,
   "id": "8a77774d",
   "metadata": {},
   "outputs": [],
   "source": [
    "mask = np.ma.masked_where(arr2,arr1)"
   ]
  },
  {
   "cell_type": "code",
   "execution_count": 31,
   "id": "19acc675",
   "metadata": {},
   "outputs": [
    {
     "name": "stdout",
     "output_type": "stream",
     "text": [
      "[[-- --]\n",
      " [-- --]]\n"
     ]
    }
   ],
   "source": [
    "print(mask)"
   ]
  },
  {
   "cell_type": "markdown",
   "id": "c579e9d4",
   "metadata": {},
   "source": [
    "Q11. What are three different ways to get the standard deviation of a wide collection of data using\n",
    "both standard Python and its packages? Sort the three of them by how quickly they execute."
   ]
  },
  {
   "cell_type": "markdown",
   "id": "b91e42f0",
   "metadata": {},
   "source": [
    "ans: The following three different ways to get the standard deviation of a wide collection of data using both standard Python and its packages :-\n",
    "    \n",
    "    1. numpy package np.std\n",
    "    \n",
    "    2. statistics package- statistics.stdev()\n",
    "    \n",
    "   \n",
    "     "
   ]
  },
  {
   "cell_type": "markdown",
   "id": "bbdf2f11",
   "metadata": {},
   "source": [
    "12. What is the dimensionality of a Boolean mask-generated array?"
   ]
  },
  {
   "cell_type": "markdown",
   "id": "5c483826",
   "metadata": {},
   "source": [
    "Ans: It will have same dimensionality as input array."
   ]
  }
 ],
 "metadata": {
  "kernelspec": {
   "display_name": "Python 3 (ipykernel)",
   "language": "python",
   "name": "python3"
  },
  "language_info": {
   "codemirror_mode": {
    "name": "ipython",
    "version": 3
   },
   "file_extension": ".py",
   "mimetype": "text/x-python",
   "name": "python",
   "nbconvert_exporter": "python",
   "pygments_lexer": "ipython3",
   "version": "3.9.12"
  }
 },
 "nbformat": 4,
 "nbformat_minor": 5
}
