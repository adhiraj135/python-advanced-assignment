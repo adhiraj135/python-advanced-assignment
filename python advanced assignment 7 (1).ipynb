{
 "cells": [
  {
   "cell_type": "markdown",
   "id": "68776fea",
   "metadata": {},
   "source": [
    "Q1. What is the purpose of the try statement?"
   ]
  },
  {
   "cell_type": "markdown",
   "id": "4e561d1f",
   "metadata": {},
   "source": [
    "ans: try statement is the statement in whcih the code that is to be executed is present hence if there is not exception try statement will be executed and output will be recedcived but if there is a exception the codes reaches the exception block where it is handled"
   ]
  },
  {
   "cell_type": "markdown",
   "id": "91fda74c",
   "metadata": {},
   "source": [
    "Q2. What are the two most popular try statement variations?"
   ]
  },
  {
   "cell_type": "markdown",
   "id": "b4ca936e",
   "metadata": {},
   "source": [
    "ans:\n",
    "    the 2 famous variations woulde be:\n",
    "        1. try-except\n",
    "        2. try-except-finally\n",
    "    "
   ]
  },
  {
   "cell_type": "markdown",
   "id": "e4aefb55",
   "metadata": {},
   "source": [
    "Q3. What is the purpose of the raise statement?"
   ]
  },
  {
   "cell_type": "markdown",
   "id": "7ae5cd07",
   "metadata": {},
   "source": [
    "ans: the raise statemnt raises an exception or erron to disrupt the flow of execution of a program.one can define what kind of error to raise, and the text to print to the user."
   ]
  },
  {
   "cell_type": "code",
   "execution_count": 3,
   "id": "0a50904b",
   "metadata": {},
   "outputs": [
    {
     "ename": "Exception",
     "evalue": "the age of voting should be above 18 but in this case is 15",
     "output_type": "error",
     "traceback": [
      "\u001b[1;31m---------------------------------------------------------------------------\u001b[0m",
      "\u001b[1;31mException\u001b[0m                                 Traceback (most recent call last)",
      "Input \u001b[1;32mIn [3]\u001b[0m, in \u001b[0;36m<cell line: 2>\u001b[1;34m()\u001b[0m\n\u001b[0;32m      1\u001b[0m age\u001b[38;5;241m=\u001b[39m\u001b[38;5;241m15\u001b[39m\n\u001b[1;32m----> 2\u001b[0m \u001b[38;5;28;01mraise\u001b[39;00m \u001b[38;5;167;01mException\u001b[39;00m(\u001b[38;5;124mf\u001b[39m\u001b[38;5;124m'\u001b[39m\u001b[38;5;124mthe age of voting should be above 18 but in this case is \u001b[39m\u001b[38;5;132;01m{\u001b[39;00mage\u001b[38;5;132;01m}\u001b[39;00m\u001b[38;5;124m'\u001b[39m)\n",
      "\u001b[1;31mException\u001b[0m: the age of voting should be above 18 but in this case is 15"
     ]
    }
   ],
   "source": [
    "age=15\n",
    "raise Exception(f'the age of voting should be above 18 but in this case is {age}')"
   ]
  },
  {
   "cell_type": "markdown",
   "id": "6ccf7f63",
   "metadata": {},
   "source": [
    "Q4. What does the assert statement do, and what other statement is it like?"
   ]
  },
  {
   "cell_type": "markdown",
   "id": "45c80391",
   "metadata": {},
   "source": [
    "ans: assert statement has a condition and if the condition is not satisfied the program will stop and give AssertionError . assert statement can also have a condition and a optional error message. If the condition is not satisfied assert stops the program and gives AssertionError along with the error message."
   ]
  },
  {
   "cell_type": "code",
   "execution_count": 4,
   "id": "b2cd2336",
   "metadata": {},
   "outputs": [
    {
     "ename": "AssertionError",
     "evalue": "one is not equal to zero",
     "output_type": "error",
     "traceback": [
      "\u001b[1;31m---------------------------------------------------------------------------\u001b[0m",
      "\u001b[1;31mAssertionError\u001b[0m                            Traceback (most recent call last)",
      "Input \u001b[1;32mIn [4]\u001b[0m, in \u001b[0;36m<cell line: 1>\u001b[1;34m()\u001b[0m\n\u001b[1;32m----> 1\u001b[0m \u001b[38;5;28;01massert\u001b[39;00m(\u001b[38;5;241m1\u001b[39m\u001b[38;5;241m==\u001b[39m\u001b[38;5;241m0\u001b[39m),\u001b[38;5;124m\"\u001b[39m\u001b[38;5;124mone is not equal to zero\u001b[39m\u001b[38;5;124m\"\u001b[39m\n",
      "\u001b[1;31mAssertionError\u001b[0m: one is not equal to zero"
     ]
    }
   ],
   "source": [
    "assert(1==0),\"one is not equal to zero\""
   ]
  },
  {
   "cell_type": "markdown",
   "id": "b199d308",
   "metadata": {},
   "source": [
    "Q5. What is the purpose of the with/as argument, and what other statement is it like?"
   ]
  },
  {
   "cell_type": "markdown",
   "id": "70d1f2e5",
   "metadata": {},
   "source": [
    "ans: The with/as statement in Python is used for resource management and exception handling.it makes the code look for more polished and easy to interpret"
   ]
  },
  {
   "cell_type": "code",
   "execution_count": 5,
   "id": "3c69fa6a",
   "metadata": {},
   "outputs": [],
   "source": [
    "file=open(\"test.txt\",\"w\")\n",
    "file.write(\"ahvhvabaj\")\n",
    "file.close()"
   ]
  },
  {
   "cell_type": "code",
   "execution_count": 8,
   "id": "a8d3503e",
   "metadata": {},
   "outputs": [],
   "source": [
    "with open(\"test.txt\",\"w\") as file:\n",
    "    file.write(\"jcbavjkvbkab\")\n",
    "    file.close()\n",
    "with open(\"test.txt\",\"r\") as file:\n",
    "    file.read()\n"
   ]
  },
  {
   "cell_type": "code",
   "execution_count": null,
   "id": "b545a301",
   "metadata": {},
   "outputs": [],
   "source": []
  },
  {
   "cell_type": "code",
   "execution_count": null,
   "id": "a945140e",
   "metadata": {},
   "outputs": [],
   "source": []
  }
 ],
 "metadata": {
  "kernelspec": {
   "display_name": "Python 3 (ipykernel)",
   "language": "python",
   "name": "python3"
  },
  "language_info": {
   "codemirror_mode": {
    "name": "ipython",
    "version": 3
   },
   "file_extension": ".py",
   "mimetype": "text/x-python",
   "name": "python",
   "nbconvert_exporter": "python",
   "pygments_lexer": "ipython3",
   "version": "3.9.12"
  }
 },
 "nbformat": 4,
 "nbformat_minor": 5
}
