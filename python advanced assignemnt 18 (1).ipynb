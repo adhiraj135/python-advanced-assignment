{
 "cells": [
  {
   "cell_type": "markdown",
   "id": "1151e40d",
   "metadata": {},
   "source": [
    "Q1. Describe the differences between text and binary files in a single paragraph."
   ]
  },
  {
   "cell_type": "markdown",
   "id": "0bf2108b",
   "metadata": {},
   "source": [
    "ans: The major difference between these two is that a text file contains textual information in the form of alphabets, digits and special characters or symbols. On the other hand, a binary file contains bytes or a compiled version of a text file"
   ]
  },
  {
   "cell_type": "markdown",
   "id": "a721254c",
   "metadata": {},
   "source": [
    "Q2. What are some scenarios where using text files will be the better option? When would you like to\n",
    "use binary files instead of text files?"
   ]
  },
  {
   "cell_type": "markdown",
   "id": "365dabd2",
   "metadata": {},
   "source": [
    "ans: \n",
    "\n",
    "    text file is more readable easy to understand and intrepret.In text file data is stored in Unicode or ASCII that can be read by program and user both.\n",
    "    \n",
    "    Binary files are used to store data more compactly. In the text file, a special character whose ASCII value is 26 inserted after the last character to mark the end of file. In the binary file no such character is present. Files keep track of the end of the file from the number of characters present.A binary file is usually very much smaller than a text file that contains an equivalent amount of data. I/O with smaller files is faster, too, since there are fewer bytes to move."
   ]
  },
  {
   "cell_type": "markdown",
   "id": "ab1b9146",
   "metadata": {},
   "source": [
    "Q3. What are some of the issues with using binary operations to read and write a Python integer\n",
    "directly to disc?"
   ]
  },
  {
   "cell_type": "markdown",
   "id": "0b688774",
   "metadata": {},
   "source": [
    "ans: Binary operations deal with raw data,One needs to identify how many bytes one would read or write. hence it would be curbsome process for the user"
   ]
  },
  {
   "cell_type": "markdown",
   "id": "c0be6ab7",
   "metadata": {},
   "source": [
    "Q4. Describe a benefit of using the with keyword instead of explicitly opening a file."
   ]
  },
  {
   "cell_type": "markdown",
   "id": "8863cb1c",
   "metadata": {},
   "source": [
    "ans: Using with means that the file will be closed as soon as you leave the block. This is beneficial because closing a file is something that can easily be forgotten and ties up resources that you no longer need."
   ]
  },
  {
   "cell_type": "code",
   "execution_count": 3,
   "id": "860f7e90",
   "metadata": {},
   "outputs": [],
   "source": [
    "with open(\"test.txt\",\"w\") as file:\n",
    "    file.write(\"vvhavhaubviua\")\n",
    "    file.close()"
   ]
  },
  {
   "cell_type": "markdown",
   "id": "02e83288",
   "metadata": {},
   "source": [
    "Q5. Does Python have the trailing newline while reading a line of text? Does Python append a\n",
    "newline when you write a line of text?"
   ]
  },
  {
   "cell_type": "markdown",
   "id": "498e3529",
   "metadata": {},
   "source": [
    "ans: Python readline() is a file method that helps to read one complete line from the given file. It has a trailing newline (“\\n”) at the end of the string returned.\n",
    "When we write a newline has to be provided in python excpicitly."
   ]
  },
  {
   "cell_type": "markdown",
   "id": "d8cdb029",
   "metadata": {},
   "source": [
    "Q6. What file operations enable for random-access operation?"
   ]
  },
  {
   "cell_type": "markdown",
   "id": "3161878a",
   "metadata": {},
   "source": [
    "ans: The file operations enable for random-access operation are seek() and tell()\n",
    "\n",
    "the File object supports seek but make sure that you open them as binary, i.e. \"rb\"."
   ]
  },
  {
   "cell_type": "markdown",
   "id": "b8bd4fc6",
   "metadata": {},
   "source": [
    "Q7. When do you think you'll use the struct package the most?"
   ]
  },
  {
   "cell_type": "markdown",
   "id": "b4ffcded",
   "metadata": {},
   "source": [
    "ans: The struct module in Python is used to convert native Python data types such as strings and numbers into a string of bytes and vice versa. What this means is that users can parse binary files of data stored in C structs in Python."
   ]
  },
  {
   "cell_type": "markdown",
   "id": "7bc27eaf",
   "metadata": {},
   "source": [
    "Q8. When is pickling the best option?"
   ]
  },
  {
   "cell_type": "markdown",
   "id": "f61c5de4",
   "metadata": {},
   "source": [
    "ans: Pickle in Python is primarily used in serializing and deserializing a Python object structure. In other words, it’s the process of converting a Python object into a byte stream to store it in a file/database, maintain program state across sessions, or transport data over the network."
   ]
  },
  {
   "cell_type": "markdown",
   "id": "050ad59d",
   "metadata": {},
   "source": [
    "Q9. When will it be best to use the shelve package?"
   ]
  },
  {
   "cell_type": "code",
   "execution_count": null,
   "id": "ed9a7dbc",
   "metadata": {},
   "outputs": [],
   "source": []
  }
 ],
 "metadata": {
  "kernelspec": {
   "display_name": "Python 3 (ipykernel)",
   "language": "python",
   "name": "python3"
  },
  "language_info": {
   "codemirror_mode": {
    "name": "ipython",
    "version": 3
   },
   "file_extension": ".py",
   "mimetype": "text/x-python",
   "name": "python",
   "nbconvert_exporter": "python",
   "pygments_lexer": "ipython3",
   "version": "3.9.12"
  }
 },
 "nbformat": 4,
 "nbformat_minor": 5
}
