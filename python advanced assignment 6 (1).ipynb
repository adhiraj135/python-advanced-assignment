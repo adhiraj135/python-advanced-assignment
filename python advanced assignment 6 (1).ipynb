{
 "cells": [
  {
   "cell_type": "markdown",
   "id": "24537008",
   "metadata": {},
   "source": [
    "Q1. Describe three applications for exception processing."
   ]
  },
  {
   "cell_type": "markdown",
   "id": "ca084000",
   "metadata": {},
   "source": [
    "Ans: the 3 applications of exception processing are:\n",
    "     \n",
    "     1. file handling\n",
    "     \n",
    "     2. arithematic operations\n",
    "     \n",
    "     3. datatbase functions"
   ]
  },
  {
   "cell_type": "markdown",
   "id": "06452359",
   "metadata": {},
   "source": [
    "Q2. What happens if you don't do something extra to treat an exception?"
   ]
  },
  {
   "cell_type": "markdown",
   "id": "5e797b92",
   "metadata": {},
   "source": [
    "ans: \n",
    "\n",
    "Python has many built-in exceptions that are raised when your program encounters an error (something in the program goes wrong). When these exceptions occur, the Python interpreter stops the current process and passes it to the calling process until it is handled. If not handled, the program will crash."
   ]
  },
  {
   "cell_type": "markdown",
   "id": "29bce470",
   "metadata": {},
   "source": [
    "Q3. What are your options for recovering from an exception in your script?"
   ]
  },
  {
   "cell_type": "markdown",
   "id": "96056ecd",
   "metadata": {},
   "source": [
    "ans: \n",
    "\n",
    "Try and Except Statement - Catching Exceptions\n",
    "\n",
    "In Python, we catch exceptions and handle them using try and except code blocks. The try clause contains the code that can raise an exception, while the except clause contains the code lines that handle the exception"
   ]
  },
  {
   "cell_type": "markdown",
   "id": "59b86b82",
   "metadata": {},
   "source": [
    "Q4. Describe two methods for triggering exceptions in your script."
   ]
  },
  {
   "cell_type": "markdown",
   "id": "f4cb2b7b",
   "metadata": {},
   "source": [
    "ans= raise and assert are 2 methods for triggering exceptions\n",
    "\n",
    "raise method triggers an exception if condition provided to it turns out to be True.\n",
    "\n",
    "assert will let the program to continue execution if condition provided to it turns out to be True else exception will be raised"
   ]
  },
  {
   "cell_type": "code",
   "execution_count": 2,
   "id": "128ef668",
   "metadata": {},
   "outputs": [
    {
     "ename": "Exception",
     "evalue": "the age of voting should be greater than 18",
     "output_type": "error",
     "traceback": [
      "\u001b[1;31m---------------------------------------------------------------------------\u001b[0m",
      "\u001b[1;31mException\u001b[0m                                 Traceback (most recent call last)",
      "Input \u001b[1;32mIn [2]\u001b[0m, in \u001b[0;36m<cell line: 2>\u001b[1;34m()\u001b[0m\n\u001b[0;32m      1\u001b[0m age\u001b[38;5;241m=\u001b[39m\u001b[38;5;241m15\u001b[39m\n\u001b[1;32m----> 2\u001b[0m \u001b[38;5;28;01mraise\u001b[39;00m \u001b[38;5;167;01mException\u001b[39;00m(\u001b[38;5;124m\"\u001b[39m\u001b[38;5;124mthe age of voting should be greater than 18\u001b[39m\u001b[38;5;124m\"\u001b[39m)\n",
      "\u001b[1;31mException\u001b[0m: the age of voting should be greater than 18"
     ]
    }
   ],
   "source": [
    "age=15\n",
    "raise Exception(\"the age of voting should be greater than 18\")"
   ]
  },
  {
   "cell_type": "code",
   "execution_count": 3,
   "id": "f3dc487f",
   "metadata": {},
   "outputs": [
    {
     "ename": "AssertionError",
     "evalue": "1 is not equal to 2",
     "output_type": "error",
     "traceback": [
      "\u001b[1;31m---------------------------------------------------------------------------\u001b[0m",
      "\u001b[1;31mAssertionError\u001b[0m                            Traceback (most recent call last)",
      "Input \u001b[1;32mIn [3]\u001b[0m, in \u001b[0;36m<cell line: 1>\u001b[1;34m()\u001b[0m\n\u001b[1;32m----> 1\u001b[0m \u001b[38;5;28;01massert\u001b[39;00m(\u001b[38;5;241m1\u001b[39m\u001b[38;5;241m==\u001b[39m\u001b[38;5;241m2\u001b[39m),\u001b[38;5;124m'\u001b[39m\u001b[38;5;124m1 is not equal to 2\u001b[39m\u001b[38;5;124m'\u001b[39m\n",
      "\u001b[1;31mAssertionError\u001b[0m: 1 is not equal to 2"
     ]
    }
   ],
   "source": [
    "assert(1==2),'1 is not equal to 2'"
   ]
  },
  {
   "cell_type": "markdown",
   "id": "0437895d",
   "metadata": {},
   "source": [
    "Q5. Identify two methods for specifying actions to be executed at termination time, regardless of\n",
    "whether or not an exception exists."
   ]
  },
  {
   "cell_type": "markdown",
   "id": "4dcba2a8",
   "metadata": {},
   "source": [
    "ans: else and finally are the 2 methods which are executed even if the exception exists or not"
   ]
  },
  {
   "cell_type": "code",
   "execution_count": null,
   "id": "73bfb6a6",
   "metadata": {},
   "outputs": [],
   "source": []
  }
 ],
 "metadata": {
  "kernelspec": {
   "display_name": "Python 3 (ipykernel)",
   "language": "python",
   "name": "python3"
  },
  "language_info": {
   "codemirror_mode": {
    "name": "ipython",
    "version": 3
   },
   "file_extension": ".py",
   "mimetype": "text/x-python",
   "name": "python",
   "nbconvert_exporter": "python",
   "pygments_lexer": "ipython3",
   "version": "3.9.12"
  }
 },
 "nbformat": 4,
 "nbformat_minor": 5
}
