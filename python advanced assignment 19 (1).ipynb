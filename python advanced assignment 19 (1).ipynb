{
 "cells": [
  {
   "cell_type": "markdown",
   "id": "746f7337",
   "metadata": {},
   "source": [
    "Q1. Define the relationship between a class and its instances. Is it a one-to-one or a one-to-many\n",
    "partnership, for example?"
   ]
  },
  {
   "cell_type": "markdown",
   "id": "d267f0da",
   "metadata": {},
   "source": [
    "ans: \n",
    "\n",
    "A class defines the structure and behaviors of all entities of a given type. An object is one particular \"instance\" of that type of entity. For example, if Dog is a class, then a particular dog named Lassie would be an object of type Dog.\n",
    "\n",
    "yes it is one to many partnerships.\n"
   ]
  },
  {
   "cell_type": "markdown",
   "id": "912eadef",
   "metadata": {},
   "source": [
    "Q2. What kind of data is held only in an instance?"
   ]
  },
  {
   "cell_type": "markdown",
   "id": "68ae3f8a",
   "metadata": {},
   "source": [
    "ans: instance object can hold data according to the pecific instance objects"
   ]
  },
  {
   "cell_type": "markdown",
   "id": "5b87fa2e",
   "metadata": {},
   "source": [
    "Q3. What kind of knowledge is stored in a class?"
   ]
  },
  {
   "cell_type": "markdown",
   "id": "9d4904b4",
   "metadata": {},
   "source": [
    "ans: A class is a user-defined blueprint or prototype from which objects are created. Classes provide a means of bundling data and functionality together. Creating a new class creates a new type of object, allowing new instances of that type to be made."
   ]
  },
  {
   "cell_type": "markdown",
   "id": "309f0668",
   "metadata": {},
   "source": [
    "Q4. What exactly is a method, and how is it different from a regular function"
   ]
  },
  {
   "cell_type": "markdown",
   "id": "eb7059c6",
   "metadata": {},
   "source": [
    "ans: A method in python is somewhat similar to a function, except it is associated with object/classes. Methods in python are very similar to functions except for two major differences. The method is implicitly used for an object for which it is called. The method is accessible to data that is contained within the class."
   ]
  },
  {
   "cell_type": "markdown",
   "id": "5411487e",
   "metadata": {},
   "source": [
    "Q5. Is inheritance supported in Python, and if so, what is the syntax?"
   ]
  },
  {
   "cell_type": "markdown",
   "id": "17b0e525",
   "metadata": {},
   "source": [
    "ans:\n",
    "\n",
    "Inheritance allows us to define a class that inherits all the methods and properties from another class. Parent class is the class being inherited from, also called base class. Child class is the class that inherits from another class, also called derived class.\n",
    "\n",
    "class child_class_name(parent_class_name)"
   ]
  },
  {
   "cell_type": "markdown",
   "id": "f1c50beb",
   "metadata": {},
   "source": [
    "Q6. How much encapsulation (making instance or class variables private) does Python support?"
   ]
  },
  {
   "cell_type": "markdown",
   "id": "4b54bc66",
   "metadata": {},
   "source": [
    "ans: Python does not have the private keyword, unlike some other object oriented languages, but encapsulation can be done. Instead, it relies on the convention: a class variable that should not directly be accessed should be prefixed with an underscore."
   ]
  },
  {
   "cell_type": "markdown",
   "id": "991a1042",
   "metadata": {},
   "source": [
    "Q7. How do you distinguish between a class variable and an instance variable?"
   ]
  },
  {
   "cell_type": "markdown",
   "id": "78cd7e1a",
   "metadata": {},
   "source": [
    "Ans: The Class Attribute is available to all the instance objects of that class. whereas Instance Attributes are accessible only to the object or Instance of that class."
   ]
  },
  {
   "cell_type": "code",
   "execution_count": 4,
   "id": "2d164ce4",
   "metadata": {},
   "outputs": [],
   "source": [
    "class employee:\n",
    "    name=\"adhiraj\" #class variable\n",
    "    def __init__(self,gender,status):\n",
    "        self.gender=gender #instance variable\n",
    "        self.status=status"
   ]
  },
  {
   "cell_type": "markdown",
   "id": "3d9fdf32",
   "metadata": {},
   "source": [
    "Q8. When, if ever, can self be included in a class's method definitions?\n",
    "\n"
   ]
  },
  {
   "cell_type": "markdown",
   "id": "4570b387",
   "metadata": {},
   "source": [
    "ans: By using the “self” we can access the attributes and methods of the class in python. It binds the attributes with the given arguments. The reason you need to use self. is because Python does not use the @ syntax to refer to instance attributes."
   ]
  },
  {
   "cell_type": "markdown",
   "id": "4cf25b03",
   "metadata": {},
   "source": [
    "Q9. What is the difference between the _ _add_ _ and the _ _radd_ _ methods?"
   ]
  },
  {
   "cell_type": "markdown",
   "id": "9cd2c00d",
   "metadata": {},
   "source": [
    "ans: the difference between x.__add__(y) and x.__radd__(y) is that the former calculates x + y whereas the latter calculates y + x — both calling the respective method defined on the object x."
   ]
  },
  {
   "cell_type": "markdown",
   "id": "2213e31c",
   "metadata": {},
   "source": [
    "Q10. When is it necessary to use a reflection method? When do you not need it, even though you\n",
    "support the operation in question?"
   ]
  },
  {
   "cell_type": "markdown",
   "id": "d62ac196",
   "metadata": {},
   "source": [
    "ans: Reflection refers to the ability for code to be able to examine attributes about objects that might be passed as parameters to a function. For example, if we write type(obj) then Python will return an object which represents the type of obj."
   ]
  },
  {
   "cell_type": "code",
   "execution_count": 5,
   "id": "571d9c47",
   "metadata": {},
   "outputs": [],
   "source": [
    "def reverse(sequence): \n",
    "    sequence_type = type(sequence) \n",
    "    empty_sequence = sequence_type() \n",
    "      \n",
    "    if sequence == empty_sequence: \n",
    "        return empty_sequence \n",
    "      \n",
    "    rest = reverse(sequence[1:]) \n",
    "    first_sequence = sequence[0:1] \n",
    "\n",
    "    final_result = rest + first_sequence\n",
    "      \n",
    "    return final_result"
   ]
  },
  {
   "cell_type": "code",
   "execution_count": 6,
   "id": "ceac3ffb",
   "metadata": {},
   "outputs": [
    {
     "data": {
      "text/plain": [
       "[5, 4, 3, 2, 1]"
      ]
     },
     "execution_count": 6,
     "metadata": {},
     "output_type": "execute_result"
    }
   ],
   "source": [
    "reverse([1,2,3,4,5])"
   ]
  },
  {
   "cell_type": "markdown",
   "id": "55708442",
   "metadata": {},
   "source": [
    "Q11. What is the _ _iadd_ _ method called?"
   ]
  },
  {
   "cell_type": "markdown",
   "id": "92fc65e8",
   "metadata": {},
   "source": [
    "\n",
    "Ans: __iadd__ method is called when we use implementation like a+=b which is a.__iadd__(b)"
   ]
  },
  {
   "cell_type": "markdown",
   "id": "5fe558c2",
   "metadata": {},
   "source": [
    "Q12. Is the _ _init_ _ method inherited by subclasses? What do you do if you need to customize its\n",
    "behavior within a subclass?"
   ]
  },
  {
   "cell_type": "markdown",
   "id": "b68022f9",
   "metadata": {},
   "source": [
    "ans: yes init method is inherited by subclass and super() is used to customize its behaviour within a subclass."
   ]
  },
  {
   "cell_type": "code",
   "execution_count": null,
   "id": "f454a587",
   "metadata": {},
   "outputs": [],
   "source": []
  }
 ],
 "metadata": {
  "kernelspec": {
   "display_name": "Python 3 (ipykernel)",
   "language": "python",
   "name": "python3"
  },
  "language_info": {
   "codemirror_mode": {
    "name": "ipython",
    "version": 3
   },
   "file_extension": ".py",
   "mimetype": "text/x-python",
   "name": "python",
   "nbconvert_exporter": "python",
   "pygments_lexer": "ipython3",
   "version": "3.9.12"
  }
 },
 "nbformat": 4,
 "nbformat_minor": 5
}
