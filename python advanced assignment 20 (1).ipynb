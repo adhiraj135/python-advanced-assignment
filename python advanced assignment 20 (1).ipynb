{
 "cells": [
  {
   "cell_type": "markdown",
   "id": "824a54b7",
   "metadata": {},
   "source": [
    "1. Compare and contrast the float and Decimal classes benefits and drawbacks."
   ]
  },
  {
   "cell_type": "markdown",
   "id": "45a6093f",
   "metadata": {},
   "source": [
    "ans:\n",
    "    \n",
    "    Float is Approximate_number data type, which means that not all values in the datatype can be represented exactly,it rounds up the values. Decimal is Fixed precision data type which means that all the values in the datatype range can be represented exactly with precision and scale,it doesnot round up the value.\n",
    "    \n",
    "    float is a single precision(32 bit) floating poin data type and decimal is a 128 bit floating point data type\n",
    "    \n",
    "    decimal used within financial applications that require a high degree of accuracy and easy to avoid rounding errors whereas Float used where you store scientific numbers and for better performances.\n",
    "    \n",
    "    "
   ]
  },
  {
   "cell_type": "markdown",
   "id": "846d5724",
   "metadata": {},
   "source": [
    "2. Decimal('1.200') and Decimal('1.2') are two objects to consider. In what sense are these the same\n",
    "object? Are these just two ways of representing the exact same value, or do they correspond to\n",
    "different internal states?"
   ]
  },
  {
   "cell_type": "markdown",
   "id": "e92b55fd",
   "metadata": {},
   "source": [
    "YES, these just two ways of representing the exact same value."
   ]
  },
  {
   "cell_type": "code",
   "execution_count": 3,
   "id": "eb170daa",
   "metadata": {},
   "outputs": [],
   "source": [
    "class decimal:\n",
    "    def __init__(self,value):\n",
    "        self.value=value\n",
    "        "
   ]
  },
  {
   "cell_type": "code",
   "execution_count": 4,
   "id": "9906a994",
   "metadata": {},
   "outputs": [],
   "source": [
    "obj1=decimal(1.200)"
   ]
  },
  {
   "cell_type": "code",
   "execution_count": 5,
   "id": "de9815fc",
   "metadata": {},
   "outputs": [],
   "source": [
    "obj2=decimal(1.2)"
   ]
  },
  {
   "cell_type": "code",
   "execution_count": 6,
   "id": "c23b13c8",
   "metadata": {},
   "outputs": [
    {
     "data": {
      "text/plain": [
       "1.2"
      ]
     },
     "execution_count": 6,
     "metadata": {},
     "output_type": "execute_result"
    }
   ],
   "source": [
    "obj1.value"
   ]
  },
  {
   "cell_type": "code",
   "execution_count": 7,
   "id": "2534b602",
   "metadata": {},
   "outputs": [
    {
     "data": {
      "text/plain": [
       "1.2"
      ]
     },
     "execution_count": 7,
     "metadata": {},
     "output_type": "execute_result"
    }
   ],
   "source": [
    "obj2.value"
   ]
  },
  {
   "cell_type": "markdown",
   "id": "d476408e",
   "metadata": {},
   "source": [
    "3. What happens if the equality of Decimal('1.200') and Decimal('1.2') is checked?"
   ]
  },
  {
   "cell_type": "code",
   "execution_count": 9,
   "id": "9aca8a42",
   "metadata": {},
   "outputs": [
    {
     "name": "stdout",
     "output_type": "stream",
     "text": [
      "equality is there\n"
     ]
    }
   ],
   "source": [
    "if obj1.value==obj2.value:\n",
    "    print(\"equality is there\")\n",
    "else:\n",
    "    print(\"equality is not there\")"
   ]
  },
  {
   "cell_type": "markdown",
   "id": "247339d3",
   "metadata": {},
   "source": [
    "4. Why is it preferable to start a Decimal object with a string rather than a floating-point value?"
   ]
  },
  {
   "cell_type": "markdown",
   "id": "e1a3f735",
   "metadata": {},
   "source": [
    "Ans: Floating-point value is converted to Decimal format. Decimal can store float value with absolute precision. But when float value is given as Decimal object,it first has to be converted from floating point value which might already have rounding error.\n",
    "\n",
    "Hence it is preferable to start a Decimal object with a string."
   ]
  },
  {
   "cell_type": "markdown",
   "id": "aff26202",
   "metadata": {},
   "source": [
    "5. In an arithmetic phrase, how simple is it to combine Decimal objects with integers?"
   ]
  },
  {
   "cell_type": "markdown",
   "id": "7c4dbe18",
   "metadata": {},
   "source": [
    "ans: decimal() is used to combine Decimal objects with integers."
   ]
  },
  {
   "cell_type": "markdown",
   "id": "f1e5b1e3",
   "metadata": {},
   "source": [
    "6. Can Decimal objects and floating-point values be combined easily ?"
   ]
  },
  {
   "cell_type": "markdown",
   "id": "bf0dfa1d",
   "metadata": {},
   "source": [
    "ans: Decimal objects cannot generally be combined with floats or instances of fractions. Fraction in arithmetic operations: an attempt to add a Decimal to a float , for example, will raise a TypeError . However, it is possible to use Python's comparison operators to compare a Decimal instance x with another number y ."
   ]
  },
  {
   "cell_type": "markdown",
   "id": "8550bc13",
   "metadata": {},
   "source": [
    "7. Using the Fraction class but not the Decimal class, give an example of a quantity that can be\n",
    "expressed with absolute precision."
   ]
  },
  {
   "cell_type": "code",
   "execution_count": 23,
   "id": "8648f365",
   "metadata": {},
   "outputs": [],
   "source": [
    "from fractions import Fraction"
   ]
  },
  {
   "cell_type": "code",
   "execution_count": 26,
   "id": "b46b7cae",
   "metadata": {},
   "outputs": [
    {
     "name": "stdout",
     "output_type": "stream",
     "text": [
      "0.75\n"
     ]
    }
   ],
   "source": [
    "print(fractions.Decimal(3/4))"
   ]
  },
  {
   "cell_type": "markdown",
   "id": "1cbd1a99",
   "metadata": {},
   "source": [
    "8. Describe a quantity that can be accurately expressed by the Decimal or Fraction classes but not by\n",
    "a floating-point value."
   ]
  },
  {
   "cell_type": "markdown",
   "id": "3e6f8143",
   "metadata": {},
   "source": [
    "ans: numbers like 1.1 and 2.2 can be expressed accurately by decimal or fraction classes nut not by a floarting point value"
   ]
  },
  {
   "cell_type": "markdown",
   "id": "4de7ab58",
   "metadata": {},
   "source": [
    "Q9.Consider the following two fraction objects: Fraction(1, 2) and Fraction(1, 2). (5, 10). Is the internal\n",
    "state of these two objects the same? Why do you think that is?"
   ]
  },
  {
   "cell_type": "code",
   "execution_count": 28,
   "id": "4ed50fdb",
   "metadata": {},
   "outputs": [
    {
     "name": "stdout",
     "output_type": "stream",
     "text": [
      "1/2\n"
     ]
    }
   ],
   "source": [
    "print(Fraction(1,2))"
   ]
  },
  {
   "cell_type": "code",
   "execution_count": 31,
   "id": "7ce2eb6e",
   "metadata": {},
   "outputs": [
    {
     "name": "stdout",
     "output_type": "stream",
     "text": [
      "1/2\n"
     ]
    }
   ],
   "source": [
    "print(Fraction(5,10))"
   ]
  },
  {
   "cell_type": "markdown",
   "id": "89d49f7a",
   "metadata": {},
   "source": [
    "Q10. How do the Fraction class and the integer type (int) relate to each other? Containment or\n",
    "inheritance?"
   ]
  },
  {
   "cell_type": "code",
   "execution_count": null,
   "id": "27d5c8af",
   "metadata": {},
   "outputs": [],
   "source": [
    "ams: Fraction class and integer type are related in terms of Containment."
   ]
  }
 ],
 "metadata": {
  "kernelspec": {
   "display_name": "Python 3 (ipykernel)",
   "language": "python",
   "name": "python3"
  },
  "language_info": {
   "codemirror_mode": {
    "name": "ipython",
    "version": 3
   },
   "file_extension": ".py",
   "mimetype": "text/x-python",
   "name": "python",
   "nbconvert_exporter": "python",
   "pygments_lexer": "ipython3",
   "version": "3.9.12"
  }
 },
 "nbformat": 4,
 "nbformat_minor": 5
}
