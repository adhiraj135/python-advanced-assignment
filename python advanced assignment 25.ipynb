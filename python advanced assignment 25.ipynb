{
 "cells": [
  {
   "cell_type": "markdown",
   "id": "0a442e6a",
   "metadata": {},
   "source": [
    "Q1. What is the distinction between a numpy array and a pandas data frame? Is there a way to\n",
    "convert between the two if there is?"
   ]
  },
  {
   "cell_type": "markdown",
   "id": "6b494f44",
   "metadata": {},
   "source": [
    "ans: \n",
    "   \n",
    "When we have to work on Tabular data, we prefer the pandas module.   When we have to work on Numerical data, we prefer the numpy module.\n",
    "\n",
    "The powerful tools of pandas are Data frame and Series.            \t Whereas the powerful tool of numpy is Arrays.\n",
    "\n",
    "Pandas consume more memory.\t                                         Numpy is memory efficient.\n",
    "\n",
    "\n",
    "Indexing of the pandas series is very slow.     \t                 Indexing of numpy Arrays is very fast."
   ]
  },
  {
   "cell_type": "markdown",
   "id": "4af3dc16",
   "metadata": {},
   "source": [
    "import pandas as pd\n",
    "import numpy as np\n",
    " \n",
    "\n",
    "arr= np.array([['Aman', 95.5, \"Male\"], ['Sunny', 65.7, \"Female\"],\n",
    "       ['Monty', 85.1, \"Male\"], ['toni', 75.4, \"Male\"]])\n",
    " \n",
    "\n",
    "df = pd.DataFrame(arr, columns=['Name', 'Marks', 'Gender'])\n",
    " \n",
    "\n",
    "df"
   ]
  },
  {
   "cell_type": "markdown",
   "id": "d36a9dfe",
   "metadata": {},
   "source": [
    "Q2. What can go wrong when an user enters in a stock-ticker symbol, and how do you handle it?"
   ]
  },
  {
   "cell_type": "code",
   "execution_count": null,
   "id": "27111b57",
   "metadata": {},
   "outputs": [],
   "source": []
  },
  {
   "cell_type": "markdown",
   "id": "51db311e",
   "metadata": {},
   "source": [
    "Q3. Identify some of the plotting techniques that are used to produce a stock-market chart."
   ]
  },
  {
   "cell_type": "markdown",
   "id": "3854f12b",
   "metadata": {},
   "source": [
    "ans: grid lines plot and line chart plot can be used in matplotlib to plot a stock market chart."
   ]
  },
  {
   "cell_type": "markdown",
   "id": "1aa19ac5",
   "metadata": {},
   "source": [
    "Q4. Why is it essential to print a legend on a stock market chart?"
   ]
  },
  {
   "cell_type": "markdown",
   "id": "6fe1f628",
   "metadata": {},
   "source": [
    "ans: A legend is a statement on a stock certificate noting restrictions on the transfer of the stock, often due to SEC requirements for unregistered securities."
   ]
  },
  {
   "cell_type": "markdown",
   "id": "f8a4c3b1",
   "metadata": {},
   "source": [
    "Q5. What is the best way to limit the length of a pandas data frame to less than a year?"
   ]
  },
  {
   "cell_type": "markdown",
   "id": "b70d5e74",
   "metadata": {},
   "source": [
    "Ans: We can use start and end parameters for that. In start we write the date from where we are starting and at the end we write the end date. SO within this span we can restric the duration.Also we can use the parameters like periods for how much times we need the duration and we can also use the frequency parameter."
   ]
  },
  {
   "cell_type": "markdown",
   "id": "5854a33c",
   "metadata": {},
   "source": [
    "Q5. What is the definition of a 180-day moving average ?\n"
   ]
  },
  {
   "cell_type": "markdown",
   "id": "d131734d",
   "metadata": {},
   "source": [
    "ans: The 180-day moving average is represented as a line on charts and represents the average price over the past 180 days. The moving average can give traders a sense regarding whether the trend is up or down, while also identifying potential support or resistance areas"
   ]
  },
  {
   "cell_type": "markdown",
   "id": "94393239",
   "metadata": {},
   "source": [
    "Q7. Did the chapters final example use 'indirect' importing? If so, how exactly do you do it?"
   ]
  },
  {
   "cell_type": "markdown",
   "id": "2e05e16a",
   "metadata": {},
   "source": [
    "ans  if we have a module foo.py that imports os and we make another script called bar.py that imports foo.py and now we can\n",
    "      os.walk in bar.py.this can be exaple of indirect importing"
   ]
  },
  {
   "cell_type": "code",
   "execution_count": null,
   "id": "5f90a518",
   "metadata": {},
   "outputs": [],
   "source": []
  }
 ],
 "metadata": {
  "kernelspec": {
   "display_name": "Python 3 (ipykernel)",
   "language": "python",
   "name": "python3"
  },
  "language_info": {
   "codemirror_mode": {
    "name": "ipython",
    "version": 3
   },
   "file_extension": ".py",
   "mimetype": "text/x-python",
   "name": "python",
   "nbconvert_exporter": "python",
   "pygments_lexer": "ipython3",
   "version": "3.9.12"
  }
 },
 "nbformat": 4,
 "nbformat_minor": 5
}
