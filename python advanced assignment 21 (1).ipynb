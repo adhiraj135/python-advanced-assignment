{
 "cells": [
  {
   "cell_type": "markdown",
   "id": "0ddc3db9",
   "metadata": {},
   "source": [
    "Q1. What is a probability distribution, exactly? If the values are meant to be random, how can you\n",
    "predict them at all?"
   ]
  },
  {
   "cell_type": "markdown",
   "id": "68a4aa5e",
   "metadata": {},
   "source": [
    "ans: A probability Distribution represents the predicted outcomes of various values for a given data. Probability distributions occur in a variety of forms and sizes, each with its own set of characteristics such as mean, median, mode, skewness, standard deviation, kurtosis, etc. Probability distributions are of various types let’s demonstrate how to find them in this article."
   ]
  },
  {
   "cell_type": "code",
   "execution_count": 4,
   "id": "25738cd3",
   "metadata": {},
   "outputs": [
    {
     "name": "stderr",
     "output_type": "stream",
     "text": [
      "C:\\Users\\DELL\\Anaconda3\\lib\\site-packages\\seaborn\\distributions.py:2619: FutureWarning: `distplot` is a deprecated function and will be removed in a future version. Please adapt your code to use either `displot` (a figure-level function with similar flexibility) or `histplot` (an axes-level function for histograms).\n",
      "  warnings.warn(msg, FutureWarning)\n"
     ]
    },
    {
     "data": {
      "image/png": "[encoded data removed]",
      "text/plain": [
       "<Figure size 432x288 with 1 Axes>"
      ]
     },
     "metadata": {
      "needs_background": "light"
     },
     "output_type": "display_data"
    }
   ],
   "source": [
    "import scipy.stats as stats\n",
    "import seaborn as sns\n",
    "import matplotlib.pyplot as plt\n",
    " \n",
    "data =stats.norm(scale=1, loc=0).rvs(1000) # random value is genrated 1000 values between 0 and 1 \n",
    " \n",
    "ax = sns.distplot(data,bins=50,kde=True,color='red',hist_kws={\"linewidth\": 15,'alpha':1})\n",
    "ax.set(xlabel='Normal Distribution', ylabel='Frequency')\n",
    " \n",
    "plt.show()"
   ]
  },
  {
   "cell_type": "markdown",
   "id": "3c2a26d9",
   "metadata": {},
   "source": [
    "Q2. Is there a distinction between true random numbers and pseudo-random numbers, if there is\n",
    "one? Why are the latter considered “good enough”?"
   ]
  },
  {
   "cell_type": "markdown",
   "id": "440701a9",
   "metadata": {},
   "source": [
    "ans. Software-generated random numbers only are pseudorandom. They are not truly random because the computer uses an algorithm based on a distribution, and are not secure because they rely on deterministic, predictable algorithms. Most random data generated with Python is not fully random in the scientific sense of the word. Rather, it is pseudorandom: generated with a pseudorandom number generator (PRNG), which is essentially any algorithm for generating seemingly random but still reproducible data"
   ]
  },
  {
   "cell_type": "markdown",
   "id": "3a5e72b9",
   "metadata": {},
   "source": [
    "Q3. What are the two main factors that influence the behaviour of a 'normal' probability distribution?"
   ]
  },
  {
   "cell_type": "markdown",
   "id": "0b7f9da5",
   "metadata": {},
   "source": [
    "ans: The two main parameters of a (normal) distribution are the mean and standard deviation."
   ]
  },
  {
   "cell_type": "markdown",
   "id": "b9557fa6",
   "metadata": {},
   "source": [
    "Q4. Provide a real-life example of a normal distribution."
   ]
  },
  {
   "cell_type": "markdown",
   "id": "d32a5541",
   "metadata": {},
   "source": [
    "ans: income distribution in economy is a real life example of normal distribution."
   ]
  },
  {
   "cell_type": "markdown",
   "id": "6fce01ed",
   "metadata": {},
   "source": [
    "Q5. In the short term, how can you expect a probability distribution to behave? What do you think will\n",
    "happen as the number of trials grows?"
   ]
  },
  {
   "cell_type": "markdown",
   "id": "28d354b6",
   "metadata": {},
   "source": [
    "ans: Since the fractional width decreases with increasing N, the number of outcomes for which there is an appreciable probability becomes a smaller and smaller fraction of all possible outcomes as the number of trials increase"
   ]
  },
  {
   "cell_type": "markdown",
   "id": "07edc390",
   "metadata": {},
   "source": [
    "Q6. What kind of object can be shuffled by using random.shuffle?"
   ]
  },
  {
   "cell_type": "markdown",
   "id": "cb07fc26",
   "metadata": {},
   "source": [
    "ans: random.shuffle can shuffle list str and tupels"
   ]
  },
  {
   "cell_type": "markdown",
   "id": "bd25824e",
   "metadata": {},
   "source": [
    "Q7. Describe the math package's general categories of functions."
   ]
  },
  {
   "cell_type": "markdown",
   "id": "86b4a5e8",
   "metadata": {},
   "source": [
    "ans: Trigonometric functions,Quadratic functions,Exponential functions,Hyperbolic functions,Periodic functions.Arithmetic functions,Logarithimic functions are the genral categories of functions."
   ]
  },
  {
   "cell_type": "markdown",
   "id": "52462675",
   "metadata": {},
   "source": [
    "Q8. What is the relationship between exponentiation and logarithms?"
   ]
  },
  {
   "cell_type": "markdown",
   "id": "06060dce",
   "metadata": {},
   "source": [
    "ans: Logarithmic functions are the inverses of exponential functions. "
   ]
  },
  {
   "cell_type": "markdown",
   "id": "8d76511e",
   "metadata": {},
   "source": [
    "Q9. What are the three logarithmic functions that Python supports?"
   ]
  },
  {
   "cell_type": "markdown",
   "id": "09f8c16f",
   "metadata": {},
   "source": [
    "ans: math.log,math.log10, math.log2 are three functions that is supported by pyhton"
   ]
  },
  {
   "cell_type": "code",
   "execution_count": null,
   "id": "222659fa",
   "metadata": {},
   "outputs": [],
   "source": []
  }
 ],
 "metadata": {
  "kernelspec": {
   "display_name": "Python 3 (ipykernel)",
   "language": "python",
   "name": "python3"
  },
  "language_info": {
   "codemirror_mode": {
    "name": "ipython",
    "version": 3
   },
   "file_extension": ".py",
   "mimetype": "text/x-python",
   "name": "python",
   "nbconvert_exporter": "python",
   "pygments_lexer": "ipython3",
   "version": "3.9.12"
  }
 },
 "nbformat": 4,
 "nbformat_minor": 5
}
