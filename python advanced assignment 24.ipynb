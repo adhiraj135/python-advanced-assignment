{
 "cells": [
  {
   "cell_type": "markdown",
   "id": "16ce36b1",
   "metadata": {},
   "source": [
    "Q1. Is it permissible to use several import statements to import the same module? What would the\n",
    "goal be? Can you think of a situation where it would be beneficial?"
   ]
  },
  {
   "cell_type": "markdown",
   "id": "14399194",
   "metadata": {},
   "source": [
    "ans: yes it is is done to import the different functions present in the module."
   ]
  },
  {
   "cell_type": "markdown",
   "id": "686835a1",
   "metadata": {},
   "source": [
    "Q2. What are some of a module's characteristics? (Name at least one.)"
   ]
  },
  {
   "cell_type": "markdown",
   "id": "83fb4ab4",
   "metadata": {},
   "source": [
    "ans: Modules contain instructions, processing logic, and data and can be separately compiled and stored in a library."
   ]
  },
  {
   "cell_type": "markdown",
   "id": "d5ff4f91",
   "metadata": {},
   "source": [
    "Q3. Circular importing, such as when two modules import each other, can lead to dependencies and\n",
    "bugs that aren't visible. How can you go about creating a program that avoids mutual importing?"
   ]
  },
  {
   "cell_type": "markdown",
   "id": "a0a32e25",
   "metadata": {},
   "source": [
    "ans: When one module depends on another model and that module depends on first then it is good practice to Merge both the modules to avoid Circular Imports or us if __name__==\"__main__\" and then run the function in this.\n"
   ]
  },
  {
   "cell_type": "markdown",
   "id": "d24a9050",
   "metadata": {},
   "source": [
    "Q4. Why is _ _all_ _ in Python?"
   ]
  },
  {
   "cell_type": "raw",
   "id": "4c7d28e7",
   "metadata": {},
   "source": [
    "ans: The __import__ python is an in-built function present in the Python library. When we create programs in Python, we may need different modules to use different functions and methods that are in-built in Python. However, while writing an extensive number of lines of codes, it can get difficult to plan all the modules that will need to be included in the program."
   ]
  },
  {
   "cell_type": "markdown",
   "id": "682ebc07",
   "metadata": {},
   "source": [
    "Q5. In what situation is it useful to refer to the _ _name_ _ attribute or the string '_ _main_ _'?"
   ]
  },
  {
   "cell_type": "markdown",
   "id": "b2e34652",
   "metadata": {},
   "source": [
    "ans: Before executing code, Python interpreter reads source file and define few special variables/global variables. \n",
    "If the python interpreter is running that module (the source file) as the main program, it sets the special __name__ variable to have a value “__main__”. If this file is being imported from another module, __name__ will be set to the module’s name. Module’s name is available as value to __name__ global variable. "
   ]
  },
  {
   "cell_type": "markdown",
   "id": "9ffef90a",
   "metadata": {},
   "source": [
    "Q6. What are some of the benefits of attaching a program counter to the RPN interpreter\n",
    "application, which interprets an RPN script line by line?"
   ]
  },
  {
   "cell_type": "code",
   "execution_count": null,
   "id": "4a0824ea",
   "metadata": {},
   "outputs": [],
   "source": []
  }
 ],
 "metadata": {
  "kernelspec": {
   "display_name": "Python 3 (ipykernel)",
   "language": "python",
   "name": "python3"
  },
  "language_info": {
   "codemirror_mode": {
    "name": "ipython",
    "version": 3
   },
   "file_extension": ".py",
   "mimetype": "text/x-python",
   "name": "python",
   "nbconvert_exporter": "python",
   "pygments_lexer": "ipython3",
   "version": "3.9.12"
  }
 },
 "nbformat": 4,
 "nbformat_minor": 5
}
