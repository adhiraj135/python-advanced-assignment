{
 "cells": [
  {
   "cell_type": "markdown",
   "id": "dcf7152f",
   "metadata": {},
   "source": [
    "Q1. In Python 3.X, what are the names and functions of string object types?"
   ]
  },
  {
   "cell_type": "raw",
   "id": "27fa991d",
   "metadata": {},
   "source": [
    "ans: Following are the names and functions of strig object types:\n",
    "capitalize()-Converts the first character to upper case\n",
    "casefold()-Converts string into lower case\n",
    "center()-Returns a centered string\n",
    "count()-Returns the number of times a specified value occurs in a string\n",
    "encode()-Returns an encoded version of the string\n",
    "endswith()-Returns true if the string ends with the specified value\n",
    "expandtabs()-Sets the tab size of the string\n",
    "find()-Searches the string for a specified value and returns the position of where it was found\n",
    "format()-Formats specified values in a string\n",
    "format_map()-Formats specified values in a string\n",
    "index()-Searches the string for a specified value and returns the position of where it was found\n",
    "isalnum()-Returns True if all characters in the string are alphanumeric\n",
    "isalpha()-Returns True if all characters in the string are in the alphabet\n",
    "isascii()-Returns True if all characters in the string are ascii characters\n",
    "isdecimal()-Returns True if all characters in the string are decimals\n",
    "isdigit()-Returns True if all characters in the string are digits\n",
    "isidentifier()-Returns True if the string is an identifier\n",
    "islower()-Returns True if all characters in the string are lower case\n",
    "isnumeric()-Returns True if all characters in the string are numeric\n",
    "isprintable()-Returns True if all characters in the string are printable\n",
    "isspace()-Returns True if all characters in the string are whitespaces\n",
    "istitle()-Returns True if the string follows the rules of a title\n",
    "isupper()-Returns True if all characters in the string are upper case\n",
    "join()-Converts the elements of an iterable into a string\n",
    "ljust()-Returns a left justified version of the string\n",
    "lower()-Converts a string into lower case\n",
    "lstrip()-Returns a left trim version of the string\n",
    "maketrans()-Returns a translation table to be used in translations\n",
    "partition()-Returns a tuple where the string is parted into three parts\n",
    "replace()-Returns a string where a specified value is replaced with a specified value\n",
    "rfind()-Searches the string for a specified value and returns the last position of where it was found\n",
    "rindex()-Searches the string for a specified value and returns the last position of where it was found\n",
    "rjust()-Returns a right justified version of the string\n",
    "rpartition()-Returns a tuple where the string is parted into three parts\n",
    "rsplit()-Splits the string at the specified separator, and returns a list\n",
    "rstrip()-Returns a right trim version of the string\n",
    "split()-Splits the string at the specified separator, and returns a list\n",
    "splitlines()-Splits the string at line breaks and returns a list\n",
    "startswith()-Returns true if the string starts with the specified value\n",
    "strip()-Returns a trimmed version of the string\n",
    "swapcase()-Swaps cases, lower case becomes upper case and vice versa\n",
    "title()-Converts the first character of each word to upper case\n",
    "translate()-Returns a translated string\n",
    "upper()-Converts a string into upper case\n",
    "zfill()-Fills the string with a specified number of 0 values at the beginning"
   ]
  },
  {
   "cell_type": "markdown",
   "id": "c9dbdb5b",
   "metadata": {},
   "source": [
    "Q2. How do the string forms in Python 3.X vary in terms of operations?"
   ]
  },
  {
   "cell_type": "markdown",
   "id": "a298d8ee",
   "metadata": {},
   "source": [
    "Ans: In Python3 default format of strings is Unicode Whereas in Pyton2 we need to explicitly mention Unicode value using u."
   ]
  },
  {
   "cell_type": "markdown",
   "id": "29616de2",
   "metadata": {},
   "source": [
    "Q3. In 3.X, how do you put non-ASCII Unicode characters in a string?"
   ]
  },
  {
   "cell_type": "code",
   "execution_count": 1,
   "id": "9fa5d631",
   "metadata": {},
   "outputs": [],
   "source": [
    "from unidecode import unidecode"
   ]
  },
  {
   "cell_type": "code",
   "execution_count": 3,
   "id": "ba9e040a",
   "metadata": {},
   "outputs": [
    {
     "name": "stdout",
     "output_type": "stream",
     "text": [
      "kozuscek\n",
      "aap niice apnii bhaassaa aur inputt upkrnn cuneN aur likhnaa aarNbh kreN\n",
      "Xie Xie Ni \n",
      "arigatou. \n",
      "ulybat'sia Vladimir Putin\n"
     ]
    }
   ],
   "source": [
    "# Get transliteration for following\n",
    "# non-ASCII text (Unicode string)\n",
    "print(unidecode(u'ko\\u017eu\\u0161\\u010dek'))\n",
    "  \n",
    "# Get transliteration for following\n",
    "# non-ASCII text (Devanagari)\n",
    "print(unidecode(\"आप नीचे अपनी भाषा और इनपुट उपकरण चुनें और लिखना आरंभ करें\"))\n",
    "  \n",
    "# Get transliteration for following\n",
    "# non-ASCII text (Chinese)\n",
    "print(unidecode(\"谢谢你\"))\n",
    "  \n",
    "# Get transliteration for following\n",
    "# non-ASCII text (Japanese)\n",
    "print(unidecode(\"ありがとう。\"))\n",
    "  \n",
    "# Get transliteration for following\n",
    "# non-ASCII text (Russian)\n",
    "print(unidecode(\"улыбаться Владимир Путин\"))"
   ]
  },
  {
   "cell_type": "markdown",
   "id": "b0804cf1",
   "metadata": {},
   "source": [
    "Q4. In Python 3.X, what are the key differences between text-mode and binary-mode files?"
   ]
  },
  {
   "cell_type": "markdown",
   "id": "8a9644f2",
   "metadata": {},
   "source": [
    "ans: \n",
    "\n",
    "Text files and binary files are two types of files where binary files store data in a binary format and text file store data in a alphabet,numbers format. Binary files has a extension .bin whereas Text file has extension .txt"
   ]
  },
  {
   "cell_type": "markdown",
   "id": "82342531",
   "metadata": {},
   "source": [
    "Q5. How can you interpret a Unicode text file containing text encoded in a different encoding than\n",
    "your platform's default?"
   ]
  },
  {
   "cell_type": "markdown",
   "id": "bf878453",
   "metadata": {},
   "source": [
    "ans: \n",
    "\n",
    "Use of encode() and decode() method can be used to you interpret a Unicode text file containing text encoded in a different encoding than your platform's default, by default encoding parameter is UTF-8"
   ]
  },
  {
   "cell_type": "markdown",
   "id": "637f016a",
   "metadata": {},
   "source": [
    "Q6. What is the best way to make a Unicode text file in a particular encoding format?"
   ]
  },
  {
   "cell_type": "code",
   "execution_count": 14,
   "id": "a0cd565f",
   "metadata": {},
   "outputs": [
    {
     "name": "stdout",
     "output_type": "stream",
     "text": [
      "b'\\xe8\\xb0\\xa2\\xe8\\xb0\\xa2\\xe4\\xbd\\xa0'\n"
     ]
    }
   ],
   "source": [
    "unicode_text=\"谢谢你\"\n",
    "encoded_unicode_text=unicode_text.encode(\"utf-8\")\n",
    "print(encoded_unicode_text)"
   ]
  },
  {
   "cell_type": "code",
   "execution_count": 15,
   "id": "bfc34290",
   "metadata": {},
   "outputs": [],
   "source": [
    "with open(\"test1.txt\",\"wb\") as file:\n",
    "    file.write(encoded_unicode_text)\n",
    "    file.close()\n",
    "\n",
    "with open(\"test1.txt\",\"rb\") as file:\n",
    "    data=file.read()\n",
    "    \n",
    "\n",
    "\n",
    "\n",
    "    "
   ]
  },
  {
   "cell_type": "code",
   "execution_count": 16,
   "id": "8aa583aa",
   "metadata": {},
   "outputs": [
    {
     "name": "stdout",
     "output_type": "stream",
     "text": [
      "b'\\xe8\\xb0\\xa2\\xe8\\xb0\\xa2\\xe4\\xbd\\xa0'\n"
     ]
    }
   ],
   "source": [
    "print(data)"
   ]
  },
  {
   "cell_type": "markdown",
   "id": "ff1a45b2",
   "metadata": {},
   "source": [
    "Q7. What qualifies ASCII text as a form of Unicode text?"
   ]
  },
  {
   "cell_type": "markdown",
   "id": "aa426b99",
   "metadata": {},
   "source": [
    "ans:  \n",
    "\n",
    "ASCII has its equivalent in Unicode. The difference between ASCII and Unicode is that ASCII represents lowercase letters (a-z), uppercase letters (A-Z), digits (0-9) and symbols such as punctuation marks while Unicode represents letters of English, Arabic, Greek etc."
   ]
  },
  {
   "cell_type": "markdown",
   "id": "128d4658",
   "metadata": {},
   "source": [
    "Q8. How much of an effect does the change in string types in Python 3.X have on your code?"
   ]
  },
  {
   "cell_type": "markdown",
   "id": "5ef3a54b",
   "metadata": {},
   "source": [
    "Ans: \n",
    "\n",
    "Python 3 stores strings as Unicode by default whereas Python 2 requires you to mark a string with a u if you want to store it as Unicode. Unicode strings are more versatile than ASCII strings, which are the Python 3.X default, as they can store letters from foreign languages as well as emoji and the standard Roman letters and numerals."
   ]
  },
  {
   "cell_type": "code",
   "execution_count": null,
   "id": "0426c5a3",
   "metadata": {},
   "outputs": [],
   "source": []
  }
 ],
 "metadata": {
  "kernelspec": {
   "display_name": "Python 3 (ipykernel)",
   "language": "python",
   "name": "python3"
  },
  "language_info": {
   "codemirror_mode": {
    "name": "ipython",
    "version": 3
   },
   "file_extension": ".py",
   "mimetype": "text/x-python",
   "name": "python",
   "nbconvert_exporter": "python",
   "pygments_lexer": "ipython3",
   "version": "3.9.12"
  }
 },
 "nbformat": 4,
 "nbformat_minor": 5
}
