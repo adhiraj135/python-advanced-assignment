{
 "cells": [
  {
   "cell_type": "markdown",
   "id": "d25bad76",
   "metadata": {},
   "source": [
    "Q1. Does assigning a value to a string's indexed character violate Python&#39;s string immutability?"
   ]
  },
  {
   "cell_type": "markdown",
   "id": "d150dace",
   "metadata": {},
   "source": [
    "ans: No assigning a value to a string's indexed character does not violate Python's string immutability."
   ]
  },
  {
   "cell_type": "code",
   "execution_count": 2,
   "id": "9b1fc017",
   "metadata": {},
   "outputs": [
    {
     "ename": "TypeError",
     "evalue": "'str' object does not support item assignment",
     "output_type": "error",
     "traceback": [
      "\u001b[1;31m---------------------------------------------------------------------------\u001b[0m",
      "\u001b[1;31mTypeError\u001b[0m                                 Traceback (most recent call last)",
      "Input \u001b[1;32mIn [2]\u001b[0m, in \u001b[0;36m<cell line: 2>\u001b[1;34m()\u001b[0m\n\u001b[0;32m      1\u001b[0m a\u001b[38;5;241m=\u001b[39m\u001b[38;5;124m\"\u001b[39m\u001b[38;5;124mhelloworld\u001b[39m\u001b[38;5;124m\"\u001b[39m\n\u001b[1;32m----> 2\u001b[0m a[\u001b[38;5;241m6\u001b[39m]\u001b[38;5;241m=\u001b[39m\u001b[38;5;124m\"\u001b[39m\u001b[38;5;124ma\u001b[39m\u001b[38;5;124m\"\u001b[39m\n",
      "\u001b[1;31mTypeError\u001b[0m: 'str' object does not support item assignment"
     ]
    }
   ],
   "source": [
    "a=\"helloworld\"\n",
    "a[6]=\"a\""
   ]
  },
  {
   "cell_type": "markdown",
   "id": "d84651a0",
   "metadata": {},
   "source": [
    "Q2. Does using the += operator to concatenate strings violate Python&#39;s string immutability? Why or\n",
    "why not?"
   ]
  },
  {
   "cell_type": "markdown",
   "id": "5afb763d",
   "metadata": {},
   "source": [
    "ans=  \n",
    "\n",
    "+= operator is used to concatenate strings, it does not violate Python’s string immutability Property. Because doing so new creates a new association with data and variable."
   ]
  },
  {
   "cell_type": "code",
   "execution_count": 9,
   "id": "a957a6a1",
   "metadata": {},
   "outputs": [
    {
     "name": "stdout",
     "output_type": "stream",
     "text": [
      "helloworld@123\n"
     ]
    }
   ],
   "source": [
    "a=\"helloworld\"\n",
    "a+=\"@123\"\n",
    "print(a)"
   ]
  },
  {
   "cell_type": "markdown",
   "id": "735d58b5",
   "metadata": {},
   "source": [
    "Q3. In Python, how many different ways are there to index a character?\n"
   ]
  },
  {
   "cell_type": "code",
   "execution_count": 20,
   "id": "5aa13359",
   "metadata": {},
   "outputs": [
    {
     "name": "stdout",
     "output_type": "stream",
     "text": [
      "e @\n"
     ]
    }
   ],
   "source": [
    "print(a[1],a[10])"
   ]
  },
  {
   "cell_type": "code",
   "execution_count": 19,
   "id": "6cca0c34",
   "metadata": {},
   "outputs": [
    {
     "name": "stdout",
     "output_type": "stream",
     "text": [
      "3 l\n"
     ]
    }
   ],
   "source": [
    "print(a[-1],a[-12])"
   ]
  },
  {
   "cell_type": "markdown",
   "id": "f1547f92",
   "metadata": {},
   "source": [
    "Q4. What is the relationship between indexing and slicing?"
   ]
  },
  {
   "cell_type": "markdown",
   "id": "3577fafa",
   "metadata": {},
   "source": [
    "ans: \n",
    "\n",
    "Indexing: Indexing is used to obtain individual elements.\n",
    "\n",
    "Slicing: Slicing is used to obtain a sequence of elements.\n",
    "\n",
    "Indexing and Slicing can be be done in Python Sequences types like list, string, tuple, range objects.\n",
    "\n"
   ]
  },
  {
   "cell_type": "code",
   "execution_count": 21,
   "id": "427919d5",
   "metadata": {},
   "outputs": [
    {
     "data": {
      "text/plain": [
       "'helloworld@123'"
      ]
     },
     "execution_count": 21,
     "metadata": {},
     "output_type": "execute_result"
    }
   ],
   "source": [
    "a"
   ]
  },
  {
   "cell_type": "code",
   "execution_count": 22,
   "id": "1271335e",
   "metadata": {},
   "outputs": [
    {
     "name": "stdout",
     "output_type": "stream",
     "text": [
      "e @ 3 l\n"
     ]
    }
   ],
   "source": [
    "print(a[1],a[10],a[-1],a[-12])#indexing"
   ]
  },
  {
   "cell_type": "code",
   "execution_count": 25,
   "id": "a9fa8a6a",
   "metadata": {},
   "outputs": [
    {
     "name": "stdout",
     "output_type": "stream",
     "text": [
      "ellow ld@12 helloworld@12\n"
     ]
    }
   ],
   "source": [
    "print(a[1:6],a[-6:-1],a[0:-1])#slicing"
   ]
  },
  {
   "cell_type": "markdown",
   "id": "924b534c",
   "metadata": {},
   "source": [
    "Q5. What is an indexed character's exact data type? What is the data form of a slicing-generated\n",
    "substring?"
   ]
  },
  {
   "cell_type": "markdown",
   "id": "db9577df",
   "metadata": {},
   "source": [
    "ans: the datatype of index or sliced string would be a str only"
   ]
  },
  {
   "cell_type": "code",
   "execution_count": 32,
   "id": "d7dc8dc8",
   "metadata": {},
   "outputs": [
    {
     "data": {
      "text/plain": [
       "'helloworld@123'"
      ]
     },
     "execution_count": 32,
     "metadata": {},
     "output_type": "execute_result"
    }
   ],
   "source": [
    "a"
   ]
  },
  {
   "cell_type": "code",
   "execution_count": 33,
   "id": "cb0ed0e9",
   "metadata": {},
   "outputs": [
    {
     "data": {
      "text/plain": [
       "str"
      ]
     },
     "execution_count": 33,
     "metadata": {},
     "output_type": "execute_result"
    }
   ],
   "source": [
    "type(a[1])"
   ]
  },
  {
   "cell_type": "code",
   "execution_count": 34,
   "id": "31912210",
   "metadata": {},
   "outputs": [
    {
     "data": {
      "text/plain": [
       "str"
      ]
     },
     "execution_count": 34,
     "metadata": {},
     "output_type": "execute_result"
    }
   ],
   "source": [
    "type(a[1:6])"
   ]
  },
  {
   "cell_type": "markdown",
   "id": "88f57a44",
   "metadata": {},
   "source": [
    "Q6. What is the relationship between string and character \"types\" in Python?"
   ]
  },
  {
   "cell_type": "markdown",
   "id": "2299febe",
   "metadata": {},
   "source": [
    "Ans: Object that contains sequence of character datatypes are called String. however python doesnot have a character datatype."
   ]
  },
  {
   "cell_type": "markdown",
   "id": "b5a3e20c",
   "metadata": {},
   "source": [
    "Q7. Identify at least two operators and one method that allow you to combine one or more smaller\n",
    "strings to create a larger string."
   ]
  },
  {
   "cell_type": "code",
   "execution_count": 41,
   "id": "3602a8a8",
   "metadata": {},
   "outputs": [
    {
     "data": {
      "text/plain": [
       "'helloworld@123helloworld@123helloworld@123helloworld@123helloworld@123helloworld@123helloworld@123helloworld@123helloworld@123helloworld@123helloworld@123helloworld@123helloworld@123helloworld@123helloworld@123helloworld@123'"
      ]
     },
     "execution_count": 41,
     "metadata": {},
     "output_type": "execute_result"
    }
   ],
   "source": [
    "a+\",helloworld@123456\"\n",
    "a+=a\n",
    "a*2"
   ]
  },
  {
   "cell_type": "markdown",
   "id": "03c1316f",
   "metadata": {},
   "source": [
    "Q8. What is the benefit of first checking the target string with in or not in before using the index\n",
    "method to find a substring?"
   ]
  },
  {
   "cell_type": "markdown",
   "id": "e33915ed",
   "metadata": {},
   "source": [
    "ans: when a loop is applied on the target string then it iterates through each value in the target string and then check whether it is present inside the sub string or not."
   ]
  },
  {
   "cell_type": "code",
   "execution_count": 50,
   "id": "2fc8d683",
   "metadata": {},
   "outputs": [
    {
     "name": "stdout",
     "output_type": "stream",
     "text": [
      "e o o "
     ]
    }
   ],
   "source": [
    "vowel=\"aeiou\"\n",
    "s=\"helloworld\"\n",
    "for i in s:\n",
    "    if i in vowel:\n",
    "        print(i,end=\" \")\n"
   ]
  },
  {
   "cell_type": "code",
   "execution_count": 51,
   "id": "f32d93f1",
   "metadata": {},
   "outputs": [
    {
     "name": "stdout",
     "output_type": "stream",
     "text": [
      "h l l w r l d "
     ]
    }
   ],
   "source": [
    "vowel=\"aeiou\"\n",
    "s=\"helloworld\"\n",
    "for i in s:\n",
    "    if i not in vowel:\n",
    "        print(i,end=\" \")\n"
   ]
  },
  {
   "cell_type": "markdown",
   "id": "46d1d28c",
   "metadata": {},
   "source": [
    "Q9. Which operators and built-in string methods produce simple Boolean (true/false) results?"
   ]
  },
  {
   "cell_type": "markdown",
   "id": "2fceabac",
   "metadata": {},
   "source": [
    "ans: any builtin string methods with is in the preffix gives Boolean results\n",
    "\n",
    "some of the examples are\n",
    "\n",
    "'str'.isalnum\n",
    "\n",
    "'str'.isalpha\n",
    "\n",
    "'str'.isascii\n",
    "\n",
    "'str'.isdecimals\n",
    "\n",
    "'str'.isdigit\n",
    "\n",
    "'str'.isdigit\n",
    "\n",
    "'str'.isidentifier"
   ]
  },
  {
   "cell_type": "code",
   "execution_count": null,
   "id": "d14ccd14",
   "metadata": {},
   "outputs": [],
   "source": []
  }
 ],
 "metadata": {
  "kernelspec": {
   "display_name": "Python 3 (ipykernel)",
   "language": "python",
   "name": "python3"
  },
  "language_info": {
   "codemirror_mode": {
    "name": "ipython",
    "version": 3
   },
   "file_extension": ".py",
   "mimetype": "text/x-python",
   "name": "python",
   "nbconvert_exporter": "python",
   "pygments_lexer": "ipython3",
   "version": "3.9.12"
  }
 },
 "nbformat": 4,
 "nbformat_minor": 5
}
